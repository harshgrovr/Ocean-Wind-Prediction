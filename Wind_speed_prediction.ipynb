{
  "nbformat": 4,
  "nbformat_minor": 5,
  "metadata": {
    "colab": {
      "name": "Wind Prediction.ipynb",
      "provenance": [],
      "collapsed_sections": []
    },
    "kernelspec": {
      "display_name": "Python 3",
      "language": "python",
      "name": "python3"
    },
    "language_info": {
      "codemirror_mode": {
        "name": "ipython",
        "version": 3
      },
      "file_extension": ".py",
      "mimetype": "text/x-python",
      "name": "python",
      "nbconvert_exporter": "python",
      "pygments_lexer": "ipython3",
      "version": "3.6.5"
    }
  },
  "cells": [
    {
      "cell_type": "code",
      "metadata": {
        "colab": {
          "base_uri": "https://localhost:8080/"
        },
        "id": "03528a23",
        "outputId": "af545375-2280-4d6c-eb9a-2e1c46aba622"
      },
      "source": [
        "# Uncomment and execute to mount google drive \n",
        "from google.colab import drive\n",
        "drive.mount('/content/gdrive')"
      ],
      "id": "03528a23",
      "execution_count": 2,
      "outputs": [
        {
          "output_type": "stream",
          "name": "stdout",
          "text": [
            "Drive already mounted at /content/gdrive; to attempt to forcibly remount, call drive.mount(\"/content/gdrive\", force_remount=True).\n"
          ]
        }
      ]
    },
    {
      "cell_type": "code",
      "metadata": {
        "colab": {
          "base_uri": "https://localhost:8080/"
        },
        "id": "DgxwfnD40Hp6",
        "outputId": "94c42900-67e7-49aa-df35-5c1a528e1b4d"
      },
      "source": [
        "cd /content/gdrive/MyDrive/DKRZ\\ Task/Task"
      ],
      "id": "DgxwfnD40Hp6",
      "execution_count": 3,
      "outputs": [
        {
          "output_type": "stream",
          "name": "stdout",
          "text": [
            "/content/gdrive/MyDrive/DKRZ Task/Task\n"
          ]
        }
      ]
    },
    {
      "cell_type": "code",
      "metadata": {
        "id": "xyadOCQ8zplc"
      },
      "source": [
        "import os\n",
        "from config import config\n",
        "import torch\n",
        "import torch.nn as nn\n",
        "from torch.utils.data import WeightedRandomSampler, dataloader\n",
        "from torchvision import transforms\n",
        "from model import CNN, Net, MLP, CNNLSTM\n",
        "import torch.optim as optim\n",
        "import matplotlib.pyplot as plt\n",
        "from scipy import stats as ss\n",
        "from dataLoader import WindDataset, WindDatasetSequence\n",
        "from imgaug import augmenters as iaa\n",
        "import collections\n",
        "import random\n",
        "import xarray as xr\n",
        "import numpy as np\n",
        "from matplotlib import pyplot as plt \n",
        "from PIL import Image\n",
        "from sklearn.preprocessing import StandardScaler\n",
        "from sklearn.metrics import mean_squared_error"
      ],
      "id": "xyadOCQ8zplc",
      "execution_count": 4,
      "outputs": []
    },
    {
      "cell_type": "markdown",
      "metadata": {
        "id": "_yv2oLIK5QvF"
      },
      "source": [
        "# Task 1\n",
        "\n",
        "Download the data from https://nextcloud.dkrz.de/s/QJKHqnRD7PLSK8R (500 MB). The data is in\n",
        "NetCDF4 format, which can be accessed with the Python library xarray. Extract the image data of\n",
        "good quality and the corresponding wind speed labels."
      ],
      "id": "_yv2oLIK5QvF"
    },
    {
      "cell_type": "code",
      "metadata": {
        "id": "71d5a658"
      },
      "source": [
        "# Load the NetCDF4\n",
        "with xr.open_dataset(\"./dataset/cygnss_four_channels.nc\") as ds:\n",
        "    pass"
      ],
      "id": "71d5a658",
      "execution_count": 5,
      "outputs": []
    },
    {
      "cell_type": "markdown",
      "metadata": {
        "id": "ZU68xvDJ6jP0"
      },
      "source": [
        "## Dataset description \n",
        "\n",
        "#### - X: brcs is a n-2d array used to create Images.\n",
        "#### - Y: windspeed is used as labels\n",
        "#### - quality is used to select good quality images in the dataset (0: bad, 1: good quality)"
      ],
      "id": "ZU68xvDJ6jP0"
    },
    {
      "cell_type": "code",
      "metadata": {
        "colab": {
          "base_uri": "https://localhost:8080/",
          "height": 326
        },
        "id": "x0iy2uGSbmur",
        "outputId": "b39c86b4-d775-4009-da59-5126c8cb4f8c"
      },
      "source": [
        "ds"
      ],
      "id": "x0iy2uGSbmur",
      "execution_count": 6,
      "outputs": [
        {
          "output_type": "execute_result",
          "data": {
            "text/html": [
              "<div><svg style=\"position: absolute; width: 0; height: 0; overflow: hidden\">\n",
              "<defs>\n",
              "<symbol id=\"icon-database\" viewBox=\"0 0 32 32\">\n",
              "<path d=\"M16 0c-8.837 0-16 2.239-16 5v4c0 2.761 7.163 5 16 5s16-2.239 16-5v-4c0-2.761-7.163-5-16-5z\"></path>\n",
              "<path d=\"M16 17c-8.837 0-16-2.239-16-5v6c0 2.761 7.163 5 16 5s16-2.239 16-5v-6c0 2.761-7.163 5-16 5z\"></path>\n",
              "<path d=\"M16 26c-8.837 0-16-2.239-16-5v6c0 2.761 7.163 5 16 5s16-2.239 16-5v-6c0 2.761-7.163 5-16 5z\"></path>\n",
              "</symbol>\n",
              "<symbol id=\"icon-file-text2\" viewBox=\"0 0 32 32\">\n",
              "<path d=\"M28.681 7.159c-0.694-0.947-1.662-2.053-2.724-3.116s-2.169-2.030-3.116-2.724c-1.612-1.182-2.393-1.319-2.841-1.319h-15.5c-1.378 0-2.5 1.121-2.5 2.5v27c0 1.378 1.122 2.5 2.5 2.5h23c1.378 0 2.5-1.122 2.5-2.5v-19.5c0-0.448-0.137-1.23-1.319-2.841zM24.543 5.457c0.959 0.959 1.712 1.825 2.268 2.543h-4.811v-4.811c0.718 0.556 1.584 1.309 2.543 2.268zM28 29.5c0 0.271-0.229 0.5-0.5 0.5h-23c-0.271 0-0.5-0.229-0.5-0.5v-27c0-0.271 0.229-0.5 0.5-0.5 0 0 15.499-0 15.5 0v7c0 0.552 0.448 1 1 1h7v19.5z\"></path>\n",
              "<path d=\"M23 26h-14c-0.552 0-1-0.448-1-1s0.448-1 1-1h14c0.552 0 1 0.448 1 1s-0.448 1-1 1z\"></path>\n",
              "<path d=\"M23 22h-14c-0.552 0-1-0.448-1-1s0.448-1 1-1h14c0.552 0 1 0.448 1 1s-0.448 1-1 1z\"></path>\n",
              "<path d=\"M23 18h-14c-0.552 0-1-0.448-1-1s0.448-1 1-1h14c0.552 0 1 0.448 1 1s-0.448 1-1 1z\"></path>\n",
              "</symbol>\n",
              "</defs>\n",
              "</svg>\n",
              "<style>/* CSS stylesheet for displaying xarray objects in jupyterlab.\n",
              " *\n",
              " */\n",
              "\n",
              ":root {\n",
              "  --xr-font-color0: var(--jp-content-font-color0, rgba(0, 0, 0, 1));\n",
              "  --xr-font-color2: var(--jp-content-font-color2, rgba(0, 0, 0, 0.54));\n",
              "  --xr-font-color3: var(--jp-content-font-color3, rgba(0, 0, 0, 0.38));\n",
              "  --xr-border-color: var(--jp-border-color2, #e0e0e0);\n",
              "  --xr-disabled-color: var(--jp-layout-color3, #bdbdbd);\n",
              "  --xr-background-color: var(--jp-layout-color0, white);\n",
              "  --xr-background-color-row-even: var(--jp-layout-color1, white);\n",
              "  --xr-background-color-row-odd: var(--jp-layout-color2, #eeeeee);\n",
              "}\n",
              "\n",
              "html[theme=dark],\n",
              "body.vscode-dark {\n",
              "  --xr-font-color0: rgba(255, 255, 255, 1);\n",
              "  --xr-font-color2: rgba(255, 255, 255, 0.54);\n",
              "  --xr-font-color3: rgba(255, 255, 255, 0.38);\n",
              "  --xr-border-color: #1F1F1F;\n",
              "  --xr-disabled-color: #515151;\n",
              "  --xr-background-color: #111111;\n",
              "  --xr-background-color-row-even: #111111;\n",
              "  --xr-background-color-row-odd: #313131;\n",
              "}\n",
              "\n",
              ".xr-wrap {\n",
              "  display: block;\n",
              "  min-width: 300px;\n",
              "  max-width: 700px;\n",
              "}\n",
              "\n",
              ".xr-text-repr-fallback {\n",
              "  /* fallback to plain text repr when CSS is not injected (untrusted notebook) */\n",
              "  display: none;\n",
              "}\n",
              "\n",
              ".xr-header {\n",
              "  padding-top: 6px;\n",
              "  padding-bottom: 6px;\n",
              "  margin-bottom: 4px;\n",
              "  border-bottom: solid 1px var(--xr-border-color);\n",
              "}\n",
              "\n",
              ".xr-header > div,\n",
              ".xr-header > ul {\n",
              "  display: inline;\n",
              "  margin-top: 0;\n",
              "  margin-bottom: 0;\n",
              "}\n",
              "\n",
              ".xr-obj-type,\n",
              ".xr-array-name {\n",
              "  margin-left: 2px;\n",
              "  margin-right: 10px;\n",
              "}\n",
              "\n",
              ".xr-obj-type {\n",
              "  color: var(--xr-font-color2);\n",
              "}\n",
              "\n",
              ".xr-sections {\n",
              "  padding-left: 0 !important;\n",
              "  display: grid;\n",
              "  grid-template-columns: 150px auto auto 1fr 20px 20px;\n",
              "}\n",
              "\n",
              ".xr-section-item {\n",
              "  display: contents;\n",
              "}\n",
              "\n",
              ".xr-section-item input {\n",
              "  display: none;\n",
              "}\n",
              "\n",
              ".xr-section-item input + label {\n",
              "  color: var(--xr-disabled-color);\n",
              "}\n",
              "\n",
              ".xr-section-item input:enabled + label {\n",
              "  cursor: pointer;\n",
              "  color: var(--xr-font-color2);\n",
              "}\n",
              "\n",
              ".xr-section-item input:enabled + label:hover {\n",
              "  color: var(--xr-font-color0);\n",
              "}\n",
              "\n",
              ".xr-section-summary {\n",
              "  grid-column: 1;\n",
              "  color: var(--xr-font-color2);\n",
              "  font-weight: 500;\n",
              "}\n",
              "\n",
              ".xr-section-summary > span {\n",
              "  display: inline-block;\n",
              "  padding-left: 0.5em;\n",
              "}\n",
              "\n",
              ".xr-section-summary-in:disabled + label {\n",
              "  color: var(--xr-font-color2);\n",
              "}\n",
              "\n",
              ".xr-section-summary-in + label:before {\n",
              "  display: inline-block;\n",
              "  content: '►';\n",
              "  font-size: 11px;\n",
              "  width: 15px;\n",
              "  text-align: center;\n",
              "}\n",
              "\n",
              ".xr-section-summary-in:disabled + label:before {\n",
              "  color: var(--xr-disabled-color);\n",
              "}\n",
              "\n",
              ".xr-section-summary-in:checked + label:before {\n",
              "  content: '▼';\n",
              "}\n",
              "\n",
              ".xr-section-summary-in:checked + label > span {\n",
              "  display: none;\n",
              "}\n",
              "\n",
              ".xr-section-summary,\n",
              ".xr-section-inline-details {\n",
              "  padding-top: 4px;\n",
              "  padding-bottom: 4px;\n",
              "}\n",
              "\n",
              ".xr-section-inline-details {\n",
              "  grid-column: 2 / -1;\n",
              "}\n",
              "\n",
              ".xr-section-details {\n",
              "  display: none;\n",
              "  grid-column: 1 / -1;\n",
              "  margin-bottom: 5px;\n",
              "}\n",
              "\n",
              ".xr-section-summary-in:checked ~ .xr-section-details {\n",
              "  display: contents;\n",
              "}\n",
              "\n",
              ".xr-array-wrap {\n",
              "  grid-column: 1 / -1;\n",
              "  display: grid;\n",
              "  grid-template-columns: 20px auto;\n",
              "}\n",
              "\n",
              ".xr-array-wrap > label {\n",
              "  grid-column: 1;\n",
              "  vertical-align: top;\n",
              "}\n",
              "\n",
              ".xr-preview {\n",
              "  color: var(--xr-font-color3);\n",
              "}\n",
              "\n",
              ".xr-array-preview,\n",
              ".xr-array-data {\n",
              "  padding: 0 5px !important;\n",
              "  grid-column: 2;\n",
              "}\n",
              "\n",
              ".xr-array-data,\n",
              ".xr-array-in:checked ~ .xr-array-preview {\n",
              "  display: none;\n",
              "}\n",
              "\n",
              ".xr-array-in:checked ~ .xr-array-data,\n",
              ".xr-array-preview {\n",
              "  display: inline-block;\n",
              "}\n",
              "\n",
              ".xr-dim-list {\n",
              "  display: inline-block !important;\n",
              "  list-style: none;\n",
              "  padding: 0 !important;\n",
              "  margin: 0;\n",
              "}\n",
              "\n",
              ".xr-dim-list li {\n",
              "  display: inline-block;\n",
              "  padding: 0;\n",
              "  margin: 0;\n",
              "}\n",
              "\n",
              ".xr-dim-list:before {\n",
              "  content: '(';\n",
              "}\n",
              "\n",
              ".xr-dim-list:after {\n",
              "  content: ')';\n",
              "}\n",
              "\n",
              ".xr-dim-list li:not(:last-child):after {\n",
              "  content: ',';\n",
              "  padding-right: 5px;\n",
              "}\n",
              "\n",
              ".xr-has-index {\n",
              "  font-weight: bold;\n",
              "}\n",
              "\n",
              ".xr-var-list,\n",
              ".xr-var-item {\n",
              "  display: contents;\n",
              "}\n",
              "\n",
              ".xr-var-item > div,\n",
              ".xr-var-item label,\n",
              ".xr-var-item > .xr-var-name span {\n",
              "  background-color: var(--xr-background-color-row-even);\n",
              "  margin-bottom: 0;\n",
              "}\n",
              "\n",
              ".xr-var-item > .xr-var-name:hover span {\n",
              "  padding-right: 5px;\n",
              "}\n",
              "\n",
              ".xr-var-list > li:nth-child(odd) > div,\n",
              ".xr-var-list > li:nth-child(odd) > label,\n",
              ".xr-var-list > li:nth-child(odd) > .xr-var-name span {\n",
              "  background-color: var(--xr-background-color-row-odd);\n",
              "}\n",
              "\n",
              ".xr-var-name {\n",
              "  grid-column: 1;\n",
              "}\n",
              "\n",
              ".xr-var-dims {\n",
              "  grid-column: 2;\n",
              "}\n",
              "\n",
              ".xr-var-dtype {\n",
              "  grid-column: 3;\n",
              "  text-align: right;\n",
              "  color: var(--xr-font-color2);\n",
              "}\n",
              "\n",
              ".xr-var-preview {\n",
              "  grid-column: 4;\n",
              "}\n",
              "\n",
              ".xr-var-name,\n",
              ".xr-var-dims,\n",
              ".xr-var-dtype,\n",
              ".xr-preview,\n",
              ".xr-attrs dt {\n",
              "  white-space: nowrap;\n",
              "  overflow: hidden;\n",
              "  text-overflow: ellipsis;\n",
              "  padding-right: 10px;\n",
              "}\n",
              "\n",
              ".xr-var-name:hover,\n",
              ".xr-var-dims:hover,\n",
              ".xr-var-dtype:hover,\n",
              ".xr-attrs dt:hover {\n",
              "  overflow: visible;\n",
              "  width: auto;\n",
              "  z-index: 1;\n",
              "}\n",
              "\n",
              ".xr-var-attrs,\n",
              ".xr-var-data {\n",
              "  display: none;\n",
              "  background-color: var(--xr-background-color) !important;\n",
              "  padding-bottom: 5px !important;\n",
              "}\n",
              "\n",
              ".xr-var-attrs-in:checked ~ .xr-var-attrs,\n",
              ".xr-var-data-in:checked ~ .xr-var-data {\n",
              "  display: block;\n",
              "}\n",
              "\n",
              ".xr-var-data > table {\n",
              "  float: right;\n",
              "}\n",
              "\n",
              ".xr-var-name span,\n",
              ".xr-var-data,\n",
              ".xr-attrs {\n",
              "  padding-left: 25px !important;\n",
              "}\n",
              "\n",
              ".xr-attrs,\n",
              ".xr-var-attrs,\n",
              ".xr-var-data {\n",
              "  grid-column: 1 / -1;\n",
              "}\n",
              "\n",
              "dl.xr-attrs {\n",
              "  padding: 0;\n",
              "  margin: 0;\n",
              "  display: grid;\n",
              "  grid-template-columns: 125px auto;\n",
              "}\n",
              "\n",
              ".xr-attrs dt,\n",
              ".xr-attrs dd {\n",
              "  padding: 0;\n",
              "  margin: 0;\n",
              "  float: left;\n",
              "  padding-right: 10px;\n",
              "  width: auto;\n",
              "}\n",
              "\n",
              ".xr-attrs dt {\n",
              "  font-weight: normal;\n",
              "  grid-column: 1;\n",
              "}\n",
              "\n",
              ".xr-attrs dt:hover span {\n",
              "  display: inline-block;\n",
              "  background: var(--xr-background-color);\n",
              "  padding-right: 10px;\n",
              "}\n",
              "\n",
              ".xr-attrs dd {\n",
              "  grid-column: 2;\n",
              "  white-space: pre-wrap;\n",
              "  word-break: break-all;\n",
              "}\n",
              "\n",
              ".xr-icon-database,\n",
              ".xr-icon-file-text2 {\n",
              "  display: inline-block;\n",
              "  vertical-align: middle;\n",
              "  width: 1em;\n",
              "  height: 1.5em !important;\n",
              "  stroke-width: 0;\n",
              "  stroke: currentColor;\n",
              "  fill: currentColor;\n",
              "}\n",
              "</style><pre class='xr-text-repr-fallback'>&lt;xarray.Dataset&gt;\n",
              "Dimensions:            (delay: 17, doppler: 11, sd: 785053)\n",
              "Dimensions without coordinates: delay, doppler, sd\n",
              "Data variables:\n",
              "    spacecraft_id      (sd) int16 ...\n",
              "    spacecraft_num     (sd) int8 ...\n",
              "    delay_resolution   (sd) float32 ...\n",
              "    ddm_timestamp_utc  (sd) datetime64[ns] ...\n",
              "    zenith_code_phase  (sd) float32 ...\n",
              "    brcs               (sd, delay, doppler) float32 ...\n",
              "    windspeed          (sd) float64 ...\n",
              "    quality            (sd) int32 ...\n",
              "Attributes: (12/57)\n",
              "    Conventions:                     CF-1.6, ACDD-1.3, ISO-8601\n",
              "    standard_name_vocabulary:        CF Standard Name Table v30\n",
              "    project:                         CYGNSS\n",
              "    featureType:                     trajectory\n",
              "    summary:                         CYGNSS is a NASA Earth Venture mission, ...\n",
              "    program:                         CYGNSS\n",
              "    ...                              ...\n",
              "    geospatial_lon_max:              360.000E\n",
              "    time_coverage_resolution:        P0DT0H0M1S\n",
              "    time_coverage_start:             2018-01-01T00:00:00.999261410Z\n",
              "    time_coverage_end:               2018-01-01T23:59:59.999261582Z\n",
              "    time_coverage_duration:          P1DT0H0M0S\n",
              "    NCO:                             4.4.4</pre><div class='xr-wrap' hidden><div class='xr-header'><div class='xr-obj-type'>xarray.Dataset</div></div><ul class='xr-sections'><li class='xr-section-item'><input id='section-93f897c0-7bff-464b-86f3-49473d3663ac' class='xr-section-summary-in' type='checkbox' disabled ><label for='section-93f897c0-7bff-464b-86f3-49473d3663ac' class='xr-section-summary'  title='Expand/collapse section'>Dimensions:</label><div class='xr-section-inline-details'><ul class='xr-dim-list'><li><span>delay</span>: 17</li><li><span>doppler</span>: 11</li><li><span>sd</span>: 785053</li></ul></div><div class='xr-section-details'></div></li><li class='xr-section-item'><input id='section-29ee2c1a-f784-4d19-abf7-11c26eea6f4a' class='xr-section-summary-in' type='checkbox' disabled ><label for='section-29ee2c1a-f784-4d19-abf7-11c26eea6f4a' class='xr-section-summary'  title='Expand/collapse section'>Coordinates: <span>(0)</span></label><div class='xr-section-inline-details'></div><div class='xr-section-details'><ul class='xr-var-list'></ul></div></li><li class='xr-section-item'><input id='section-d9789e51-3290-4df1-b791-fca290d22719' class='xr-section-summary-in' type='checkbox'  checked><label for='section-d9789e51-3290-4df1-b791-fca290d22719' class='xr-section-summary' >Data variables: <span>(8)</span></label><div class='xr-section-inline-details'></div><div class='xr-section-details'><ul class='xr-var-list'><li class='xr-var-item'><div class='xr-var-name'><span>spacecraft_id</span></div><div class='xr-var-dims'>(sd)</div><div class='xr-var-dtype'>int16</div><div class='xr-var-preview xr-preview'>...</div><input id='attrs-920751cb-2d8e-4fd0-a604-2e78aba2d26a' class='xr-var-attrs-in' type='checkbox' ><label for='attrs-920751cb-2d8e-4fd0-a604-2e78aba2d26a' title='Show/Hide attributes'><svg class='icon xr-icon-file-text2'><use xlink:href='#icon-file-text2'></use></svg></label><input id='data-fde03c14-6db5-45ac-92fe-23a7b8892a55' class='xr-var-data-in' type='checkbox'><label for='data-fde03c14-6db5-45ac-92fe-23a7b8892a55' title='Show/Hide data repr'><svg class='icon xr-icon-database'><use xlink:href='#icon-database'></use></svg></label><div class='xr-var-attrs'><dl class='xr-attrs'><dt><span>long_name :</span></dt><dd>CCSDS spacecraft identifier</dd><dt><span>units :</span></dt><dd>1</dd><dt><span>comment :</span></dt><dd>The CCSDS spacecraft identifier:\n",
              "\t0xF7 (247): CYGNSS 1\n",
              "\t0xF9 (249): CYGNSS 2\n",
              "\t0x2B ( 43): CYGNSS 3\n",
              "\t0x2C ( 44): CYGNSS 4\n",
              "\t0x2F ( 47): CYGNSS 5\n",
              "\t0x36 ( 54): CYGNSS 6\n",
              "\t0x37 ( 55): CYGNSS 7\n",
              "\t0x49 ( 73): CYGNSS 8\n",
              "\t0x00 (  0): end to end simulator\n",
              "\t0x0E ( 14): engineering model\n",
              "\t0x0D ( 15): default\n",
              "\t0xFF (255): unknown\n",
              "</dd></dl></div><div class='xr-var-data'><pre>[785053 values with dtype=int16]</pre></div></li><li class='xr-var-item'><div class='xr-var-name'><span>spacecraft_num</span></div><div class='xr-var-dims'>(sd)</div><div class='xr-var-dtype'>int8</div><div class='xr-var-preview xr-preview'>...</div><input id='attrs-2c0a75a3-0c16-493e-953e-90f9551d4cbc' class='xr-var-attrs-in' type='checkbox' ><label for='attrs-2c0a75a3-0c16-493e-953e-90f9551d4cbc' title='Show/Hide attributes'><svg class='icon xr-icon-file-text2'><use xlink:href='#icon-file-text2'></use></svg></label><input id='data-56e4f649-c70e-435d-9de8-aa359a4dbb0b' class='xr-var-data-in' type='checkbox'><label for='data-56e4f649-c70e-435d-9de8-aa359a4dbb0b' title='Show/Hide data repr'><svg class='icon xr-icon-database'><use xlink:href='#icon-database'></use></svg></label><div class='xr-var-attrs'><dl class='xr-attrs'><dt><span>long_name :</span></dt><dd>CYGNSS spacecraft number</dd><dt><span>units :</span></dt><dd>1</dd><dt><span>valid_min :</span></dt><dd>1</dd><dt><span>valid_max :</span></dt><dd>99</dd><dt><span>comment :</span></dt><dd>The CYGNSS spacecraft number: Ranges from 1 through 8 and 99. 1 through 8 are on-orbit spacecraft. 99 is the CYGNSS end-to-end simulator</dd></dl></div><div class='xr-var-data'><pre>[785053 values with dtype=int8]</pre></div></li><li class='xr-var-item'><div class='xr-var-name'><span>delay_resolution</span></div><div class='xr-var-dims'>(sd)</div><div class='xr-var-dtype'>float32</div><div class='xr-var-preview xr-preview'>...</div><input id='attrs-f08102bd-54fa-4734-8491-5cb3da9d95d2' class='xr-var-attrs-in' type='checkbox' ><label for='attrs-f08102bd-54fa-4734-8491-5cb3da9d95d2' title='Show/Hide attributes'><svg class='icon xr-icon-file-text2'><use xlink:href='#icon-file-text2'></use></svg></label><input id='data-0af499d4-2754-45d2-9950-f0d2beff17d2' class='xr-var-data-in' type='checkbox'><label for='data-0af499d4-2754-45d2-9950-f0d2beff17d2' title='Show/Hide data repr'><svg class='icon xr-icon-database'><use xlink:href='#icon-database'></use></svg></label><div class='xr-var-attrs'><dl class='xr-attrs'><dt><span>long_name :</span></dt><dd>DDM delay bin resolution</dd><dt><span>units :</span></dt><dd>1</dd><dt><span>comment :</span></dt><dd>DDM delay bin resolution in chips. One chip is equal to 1/1,023,000 seconds.</dd></dl></div><div class='xr-var-data'><pre>[785053 values with dtype=float32]</pre></div></li><li class='xr-var-item'><div class='xr-var-name'><span>ddm_timestamp_utc</span></div><div class='xr-var-dims'>(sd)</div><div class='xr-var-dtype'>datetime64[ns]</div><div class='xr-var-preview xr-preview'>...</div><input id='attrs-9bf1679a-b907-4ee6-b341-3084a22c33d6' class='xr-var-attrs-in' type='checkbox' ><label for='attrs-9bf1679a-b907-4ee6-b341-3084a22c33d6' title='Show/Hide attributes'><svg class='icon xr-icon-file-text2'><use xlink:href='#icon-file-text2'></use></svg></label><input id='data-42c181b1-7f64-472d-9284-d55231ca04ee' class='xr-var-data-in' type='checkbox'><label for='data-42c181b1-7f64-472d-9284-d55231ca04ee' title='Show/Hide data repr'><svg class='icon xr-icon-database'><use xlink:href='#icon-database'></use></svg></label><div class='xr-var-attrs'><dl class='xr-attrs'><dt><span>long_name :</span></dt><dd>DDM sample timestamp - UTC</dd><dt><span>standard_name :</span></dt><dd>time</dd><dt><span>comment :</span></dt><dd>DDM sample time. The number of seconds since time_coverage_start with nanosecond resolution. Its position relative to the DDM sampling period is determined by ddm_time_type_selector. Some metadata required for DDM calibration are generated relative to pvt_timestamp_utc or att_timestamp_utc. These metadata are interpolated to ddm_timestamp_utc before being used for DDM calibration. Note that the DDM sampling period is not synchronized with the UTC change of second and can occur at any time relative to the UTC change of second.</dd></dl></div><div class='xr-var-data'><pre>[785053 values with dtype=datetime64[ns]]</pre></div></li><li class='xr-var-item'><div class='xr-var-name'><span>zenith_code_phase</span></div><div class='xr-var-dims'>(sd)</div><div class='xr-var-dtype'>float32</div><div class='xr-var-preview xr-preview'>...</div><input id='attrs-75f75f2f-f8ab-45b8-ab4e-16c7e52918a4' class='xr-var-attrs-in' type='checkbox' ><label for='attrs-75f75f2f-f8ab-45b8-ab4e-16c7e52918a4' title='Show/Hide attributes'><svg class='icon xr-icon-file-text2'><use xlink:href='#icon-file-text2'></use></svg></label><input id='data-5ebf49f0-6c2a-4c47-9661-51c0128409fa' class='xr-var-data-in' type='checkbox'><label for='data-5ebf49f0-6c2a-4c47-9661-51c0128409fa' title='Show/Hide data repr'><svg class='icon xr-icon-database'><use xlink:href='#icon-database'></use></svg></label><div class='xr-var-attrs'><dl class='xr-attrs'><dt><span>long_name :</span></dt><dd>Zenith signal code phase</dd><dt><span>units :</span></dt><dd>1</dd><dt><span>comment :</span></dt><dd>The DDMI-measured code phase of the direct GPS signal for prn_code interpolated to ddm_timestamp_utc. 0 &lt;= zenith_code_phase &lt; 1023.0.</dd></dl></div><div class='xr-var-data'><pre>[785053 values with dtype=float32]</pre></div></li><li class='xr-var-item'><div class='xr-var-name'><span>brcs</span></div><div class='xr-var-dims'>(sd, delay, doppler)</div><div class='xr-var-dtype'>float32</div><div class='xr-var-preview xr-preview'>...</div><input id='attrs-0df5a6d3-921a-4aae-ba03-ff55937c14a2' class='xr-var-attrs-in' type='checkbox' ><label for='attrs-0df5a6d3-921a-4aae-ba03-ff55937c14a2' title='Show/Hide attributes'><svg class='icon xr-icon-file-text2'><use xlink:href='#icon-file-text2'></use></svg></label><input id='data-0d4fa47f-3b17-4243-976e-6613c5b742a6' class='xr-var-data-in' type='checkbox'><label for='data-0d4fa47f-3b17-4243-976e-6613c5b742a6' title='Show/Hide data repr'><svg class='icon xr-icon-database'><use xlink:href='#icon-database'></use></svg></label><div class='xr-var-attrs'><dl class='xr-attrs'><dt><span>long_name :</span></dt><dd>DDM bin bistatic radar cross section</dd><dt><span>coordinates :</span></dt><dd>ddm_timestamp_utc sp_lat sp_lon</dd><dt><span>units :</span></dt><dd>meter2</dd><dt><span>comment :</span></dt><dd>17 x 11 array of DDM bin bistatic radar cross section, m^2. The specular point is located in DDM bin round(brcs_ddm_sp_bin_delay_row), round(brcs_ddm_sp_bin_dopp_col).</dd></dl></div><div class='xr-var-data'><pre>[146804911 values with dtype=float32]</pre></div></li><li class='xr-var-item'><div class='xr-var-name'><span>windspeed</span></div><div class='xr-var-dims'>(sd)</div><div class='xr-var-dtype'>float64</div><div class='xr-var-preview xr-preview'>...</div><input id='attrs-623f947f-6867-44ec-99de-8dc52ce2cc48' class='xr-var-attrs-in' type='checkbox' disabled><label for='attrs-623f947f-6867-44ec-99de-8dc52ce2cc48' title='Show/Hide attributes'><svg class='icon xr-icon-file-text2'><use xlink:href='#icon-file-text2'></use></svg></label><input id='data-83563088-1c4c-4dd9-af96-fe228b021e38' class='xr-var-data-in' type='checkbox'><label for='data-83563088-1c4c-4dd9-af96-fe228b021e38' title='Show/Hide data repr'><svg class='icon xr-icon-database'><use xlink:href='#icon-database'></use></svg></label><div class='xr-var-attrs'><dl class='xr-attrs'></dl></div><div class='xr-var-data'><pre>[785053 values with dtype=float64]</pre></div></li><li class='xr-var-item'><div class='xr-var-name'><span>quality</span></div><div class='xr-var-dims'>(sd)</div><div class='xr-var-dtype'>int32</div><div class='xr-var-preview xr-preview'>...</div><input id='attrs-b1cc9be5-7c44-4ec9-a42d-bc95be622fcb' class='xr-var-attrs-in' type='checkbox' disabled><label for='attrs-b1cc9be5-7c44-4ec9-a42d-bc95be622fcb' title='Show/Hide attributes'><svg class='icon xr-icon-file-text2'><use xlink:href='#icon-file-text2'></use></svg></label><input id='data-457f8e98-585c-4dbe-ad07-6fc65915a6ed' class='xr-var-data-in' type='checkbox'><label for='data-457f8e98-585c-4dbe-ad07-6fc65915a6ed' title='Show/Hide data repr'><svg class='icon xr-icon-database'><use xlink:href='#icon-database'></use></svg></label><div class='xr-var-attrs'><dl class='xr-attrs'></dl></div><div class='xr-var-data'><pre>[785053 values with dtype=int32]</pre></div></li></ul></div></li><li class='xr-section-item'><input id='section-d8cd09f5-1922-41fe-b8ac-3bc666468e6a' class='xr-section-summary-in' type='checkbox'  ><label for='section-d8cd09f5-1922-41fe-b8ac-3bc666468e6a' class='xr-section-summary' >Attributes: <span>(57)</span></label><div class='xr-section-inline-details'></div><div class='xr-section-details'><dl class='xr-attrs'><dt><span>Conventions :</span></dt><dd>CF-1.6, ACDD-1.3, ISO-8601</dd><dt><span>standard_name_vocabulary :</span></dt><dd>CF Standard Name Table v30</dd><dt><span>project :</span></dt><dd>CYGNSS</dd><dt><span>featureType :</span></dt><dd>trajectory</dd><dt><span>summary :</span></dt><dd>CYGNSS is a NASA Earth Venture mission, managed by the Earth System Science Pathfinder Program. The mission consists of a constellation of eight small satellites. The eight observatories comprise a constellation that measures the ocean surface wind field with very high temporal resolution and spatial coverage, under all precipitating conditions, and over the full dynamic range of wind speeds experienced in a tropical cyclone. The CYGNSS observatories fly in 510 km circular orbits at a common inclination of 35°. Each observatory includes a Delay Doppler Mapping Instrument (DDMI) consisting of a modified GPS receiver capable of measuring surface scattering, a low gain zenith antenna for measurement of the direct GPS signal, and two high gain nadir antennas for measurement of the weaker scattered signal. Each DDMI is capable of measuring 4 simultaneous bi-static reflections, resulting in a total of 32 wind measurements per second by the full constellation.</dd><dt><span>program :</span></dt><dd>CYGNSS</dd><dt><span>references :</span></dt><dd>Ruf, C., P. Chang, M.P. Clarizia, S. Gleason, Z. Jelenak, J. Murray, M. Morris, S. Musko, D. Posselt, D. Provost, D. Starkenburg, V. Zavorotny, CYGNSS Handbook, Ann Arbor, MI, Michigan Pub., ISBN 978-1-60785-380-0, 154 pp, 1 Apr 2016. http://clasp-research.engin.umich.edu/missions/cygnss/reference/cygnss-mission/CYGNSS_Handbook_April2016.pdf</dd><dt><span>processing_level :</span></dt><dd>1</dd><dt><span>comment :</span></dt><dd>DDMs are calibrated into Power (Watts) and Bistatic Radar Cross Section (m^2)</dd><dt><span>creator_type :</span></dt><dd>institution</dd><dt><span>institution :</span></dt><dd>University of Michigan Space Physics Research Lab (SPRL)</dd><dt><span>creator_name :</span></dt><dd>CYGNSS Science Operations Center</dd><dt><span>publisher_name :</span></dt><dd>PO.DAAC</dd><dt><span>publisher_email :</span></dt><dd>podaac@podaac.jpl.nasa.gov</dd><dt><span>publisher_url :</span></dt><dd>​http://podaac.jpl.nasa.gov</dd><dt><span>sensor :</span></dt><dd>Delay Doppler Mapping Instrument (DDMI)</dd><dt><span>source :</span></dt><dd>Delay Doppler maps (DDM) obtained from the DDMI aboard CYGNSS observatory constellation</dd><dt><span>version_id :</span></dt><dd>2.1</dd><dt><span>title :</span></dt><dd>CYGNSS Level 1 Science Data Record Version 2.1</dd><dt><span>ShortName :</span></dt><dd>CYGNSS_L1_V2.1</dd><dt><span>id :</span></dt><dd>PODAAC-CYGNS-L1X21</dd><dt><span>netcdf_version_id :</span></dt><dd>4.3.3.1 of Dec 10 2015 16:44:18 $</dd><dt><span>history :</span></dt><dd>Fri Aug 24 12:58:57 2018: ncks -O -a -dsample,0,86121,1 -L1 --cnk_dmn=sample,1000 --cnk_dmn=ddm,4 --cnk_dmn=delay,17 --cnk_dmn=doppler,11 /tmp/qt_temp.104375 /tmp/qt_temp.a04375\n",
              "/data/ops/op2_1/apps/src/produce-L1-files/produce-L1-files production_1@cygnss-data-1.engin.umich.edu 1 2018-01-01 00:00:00 2018-01-02 00:00:00 --allow-partial</dd><dt><span>platform :</span></dt><dd>Observatory Reference: cyg1 (C-SCID=F7)</dd><dt><span>l1_algorithm_version :</span></dt><dd>2.1</dd><dt><span>lna_data_version :</span></dt><dd>2</dd><dt><span>nadir_ant_data_version :</span></dt><dd>6</dd><dt><span>zenith_ant_data_version :</span></dt><dd>1</dd><dt><span>ant_temp_version :</span></dt><dd>1</dd><dt><span>eff_scatter_2d_version :</span></dt><dd>4</dd><dt><span>eff_scatter_3d_version :</span></dt><dd>6</dd><dt><span>gps_eirp_param_version :</span></dt><dd>7</dd><dt><span>prn_sv_maps_version :</span></dt><dd>1</dd><dt><span>land_mask_version :</span></dt><dd>1</dd><dt><span>near_land_mask_version :</span></dt><dd>1</dd><dt><span>very_near_land_mask_version :</span></dt><dd>1</dd><dt><span>open_ocean_mask_version :</span></dt><dd>1</dd><dt><span>ddm_a2d_version :</span></dt><dd>1</dd><dt><span>milky_way_version :</span></dt><dd>1</dd><dt><span>fresnel_coeff_version :</span></dt><dd>1</dd><dt><span>brcs_uncert_lut_version :</span></dt><dd>1</dd><dt><span>ddma_les_sel_luts_version :</span></dt><dd>2</dd><dt><span>mean_sea_surface_version :</span></dt><dd>1</dd><dt><span>noise_floor_correction_version :</span></dt><dd>1</dd><dt><span>sv_observable_scaling_version :</span></dt><dd>3</dd><dt><span>per_bin_ant_version :</span></dt><dd>1</dd><dt><span>date_created :</span></dt><dd>2018-08-24T12:58:53Z</dd><dt><span>date_issued :</span></dt><dd>2018-08-24T12:58:53Z</dd><dt><span>geospatial_lat_min :</span></dt><dd>-42.150N</dd><dt><span>geospatial_lat_max :</span></dt><dd>43.046N</dd><dt><span>geospatial_lon_min :</span></dt><dd>0.001E</dd><dt><span>geospatial_lon_max :</span></dt><dd>360.000E</dd><dt><span>time_coverage_resolution :</span></dt><dd>P0DT0H0M1S</dd><dt><span>time_coverage_start :</span></dt><dd>2018-01-01T00:00:00.999261410Z</dd><dt><span>time_coverage_end :</span></dt><dd>2018-01-01T23:59:59.999261582Z</dd><dt><span>time_coverage_duration :</span></dt><dd>P1DT0H0M0S</dd><dt><span>NCO :</span></dt><dd>4.4.4</dd></dl></div></li></ul></div></div>"
            ],
            "text/plain": [
              "<xarray.Dataset>\n",
              "Dimensions:            (delay: 17, doppler: 11, sd: 785053)\n",
              "Dimensions without coordinates: delay, doppler, sd\n",
              "Data variables:\n",
              "    spacecraft_id      (sd) int16 ...\n",
              "    spacecraft_num     (sd) int8 ...\n",
              "    delay_resolution   (sd) float32 ...\n",
              "    ddm_timestamp_utc  (sd) datetime64[ns] ...\n",
              "    zenith_code_phase  (sd) float32 ...\n",
              "    brcs               (sd, delay, doppler) float32 ...\n",
              "    windspeed          (sd) float64 ...\n",
              "    quality            (sd) int32 ...\n",
              "Attributes: (12/57)\n",
              "    Conventions:                     CF-1.6, ACDD-1.3, ISO-8601\n",
              "    standard_name_vocabulary:        CF Standard Name Table v30\n",
              "    project:                         CYGNSS\n",
              "    featureType:                     trajectory\n",
              "    summary:                         CYGNSS is a NASA Earth Venture mission, ...\n",
              "    program:                         CYGNSS\n",
              "    ...                              ...\n",
              "    geospatial_lon_max:              360.000E\n",
              "    time_coverage_resolution:        P0DT0H0M1S\n",
              "    time_coverage_start:             2018-01-01T00:00:00.999261410Z\n",
              "    time_coverage_end:               2018-01-01T23:59:59.999261582Z\n",
              "    time_coverage_duration:          P1DT0H0M0S\n",
              "    NCO:                             4.4.4"
            ]
          },
          "metadata": {},
          "execution_count": 6
        }
      ]
    },
    {
      "cell_type": "markdown",
      "metadata": {
        "id": "4f1e6e9e"
      },
      "source": [
        "## Generate Good & Bad Quality Images"
      ],
      "id": "4f1e6e9e"
    },
    {
      "cell_type": "code",
      "metadata": {
        "colab": {
          "base_uri": "https://localhost:8080/"
        },
        "id": "55z9HKjab7e1",
        "outputId": "231387ff-6a7c-4ebb-f9c4-9a3d480fb5db"
      },
      "source": [
        "# good and bad image frequencies in the dataset\n",
        "quality = np.array(ds['quality'])\n",
        "collections.Counter(quality)"
      ],
      "id": "55z9HKjab7e1",
      "execution_count": 7,
      "outputs": [
        {
          "output_type": "execute_result",
          "data": {
            "text/plain": [
              "Counter({0: 582338, 1: 202715})"
            ]
          },
          "metadata": {},
          "execution_count": 7
        }
      ]
    },
    {
      "cell_type": "code",
      "metadata": {
        "id": "6mOysqpgcHfO"
      },
      "source": [
        "# Choose some random good quality images \n",
        "random.seed(11)\n",
        "good_quality_indexes = np.where(quality == 1)[0]\n",
        "random_good_quality_indexes = [random.choice(good_quality_indexes) for _ in range(4)]"
      ],
      "id": "6mOysqpgcHfO",
      "execution_count": 8,
      "outputs": []
    },
    {
      "cell_type": "code",
      "metadata": {
        "colab": {
          "base_uri": "https://localhost:8080/",
          "height": 374
        },
        "id": "ADSOftfWcKhu",
        "outputId": "86b0db26-b895-492f-a59e-dd1b4b69cb1f"
      },
      "source": [
        "# Display those randomly choosen Images\n",
        "imgs = [ds['brcs'][i]  for i in random_good_quality_indexes]\n",
        "_, axs = plt.subplots(2, 2, figsize=(6, 6))\n",
        "axs = axs.flatten()\n",
        "for img, ax in zip(imgs, axs): \n",
        "    img  = np.array(img)         \n",
        "    ax.imshow(img)    \n",
        "plt.show()"
      ],
      "id": "ADSOftfWcKhu",
      "execution_count": 9,
      "outputs": [
        {
          "output_type": "display_data",
          "data": {
            "image/png": "[encoded data removed]",
            "text/plain": [
              "<Figure size 432x432 with 4 Axes>"
            ]
          },
          "metadata": {
            "needs_background": "light"
          }
        }
      ]
    },
    {
      "cell_type": "code",
      "metadata": {
        "id": "DUZtmovMcOcj"
      },
      "source": [
        "# Choose some random bad quality images \n",
        "bad_quality_indexes = np.where(quality == 0)[0]\n",
        "random_bad_quality_indexes = [random.choice(bad_quality_indexes) for _ in range(4)]"
      ],
      "id": "DUZtmovMcOcj",
      "execution_count": 10,
      "outputs": []
    },
    {
      "cell_type": "code",
      "metadata": {
        "colab": {
          "base_uri": "https://localhost:8080/",
          "height": 374
        },
        "id": "6WruAfQscQ0j",
        "outputId": "e1f9704a-4e07-4e47-a9a1-c199d1f5d96a"
      },
      "source": [
        "# Display some bad quality images\n",
        "imgs = [ds['brcs'][i]  for i in random_bad_quality_indexes]\n",
        "_, axs = plt.subplots(2, 2, figsize=(6, 6))\n",
        "axs = axs.flatten()\n",
        "for img, ax in zip(imgs, axs): \n",
        "    img  = np.array(img)        \n",
        "    ax.imshow(img)    \n",
        "plt.show()"
      ],
      "id": "6WruAfQscQ0j",
      "execution_count": 11,
      "outputs": [
        {
          "output_type": "display_data",
          "data": {
            "image/png": "[encoded data removed]",
            "text/plain": [
              "<Figure size 432x432 with 4 Axes>"
            ]
          },
          "metadata": {
            "needs_background": "light"
          }
        }
      ]
    },
    {
      "cell_type": "code",
      "metadata": {
        "id": "F-0zXjUGtoA2"
      },
      "source": [
        "# Split the dataset into training, val and test : 80, 10, 10\n",
        "\n",
        "# total dataset Length (Only good Images)\n",
        "total_good_dataset_len = len(good_quality_indexes)\n",
        "\n",
        "# Change\n",
        "\n",
        "training_set = np.arange(0,int(0.8 * total_good_dataset_len))\n",
        "val_set = np.arange(int(0.8 * total_good_dataset_len) , int(0.9 * total_good_dataset_len))\n",
        "test_set = np.arange(int(0.9 * total_good_dataset_len), total_good_dataset_len -1)"
      ],
      "id": "F-0zXjUGtoA2",
      "execution_count": 12,
      "outputs": []
    },
    {
      "cell_type": "markdown",
      "metadata": {
        "id": "ef047b98"
      },
      "source": [
        "## Histogram plot showing frequncy of Windspeed(Y)"
      ],
      "id": "ef047b98"
    },
    {
      "cell_type": "code",
      "metadata": {
        "colab": {
          "base_uri": "https://localhost:8080/",
          "height": 279
        },
        "id": "3934d513",
        "outputId": "00633250-8691-4dc5-89e6-11a3acdae61a"
      },
      "source": [
        "plt.hist(ds['windspeed'].values[good_quality_indexes], bins = 10)\n",
        "plt.xlabel('Wind Speed')\n",
        "plt.ylabel('Counts')\n",
        "plt.show()"
      ],
      "id": "3934d513",
      "execution_count": 13,
      "outputs": [
        {
          "output_type": "display_data",
          "data": {
            "image/png": "[encoded data removed]",
            "text/plain": [
              "<Figure size 432x288 with 1 Axes>"
            ]
          },
          "metadata": {
            "needs_background": "light"
          }
        }
      ]
    },
    {
      "cell_type": "code",
      "metadata": {
        "colab": {
          "base_uri": "https://localhost:8080/",
          "height": 279
        },
        "id": "u5kQgTIulwDz",
        "outputId": "089843e3-70b8-45c0-a974-7573f8b55a05"
      },
      "source": [
        "# Train Data Distribution\n",
        "plt.hist(ds['windspeed'].values[good_quality_indexes][0: int(0.8 * total_good_dataset_len)], bins = 20)\n",
        "plt.xlabel('Wind Speed')\n",
        "plt.ylabel('Counts')\n",
        "plt.show()"
      ],
      "id": "u5kQgTIulwDz",
      "execution_count": 14,
      "outputs": [
        {
          "output_type": "display_data",
          "data": {
            "image/png": "[encoded data removed]",
            "text/plain": [
              "<Figure size 432x288 with 1 Axes>"
            ]
          },
          "metadata": {
            "needs_background": "light"
          }
        }
      ]
    },
    {
      "cell_type": "code",
      "metadata": {
        "colab": {
          "base_uri": "https://localhost:8080/",
          "height": 279
        },
        "id": "sn01y3ydlxjT",
        "outputId": "01be75ad-e842-4581-bf41-4608fd1edaf0"
      },
      "source": [
        "# Validation data distribution\n",
        "plt.hist(ds['windspeed'].values[good_quality_indexes][int(0.8 * total_good_dataset_len): int(0.9 * total_good_dataset_len)], bins = 20)\n",
        "plt.xlabel('Wind Speed')\n",
        "plt.ylabel('Counts')\n",
        "plt.show()"
      ],
      "id": "sn01y3ydlxjT",
      "execution_count": 15,
      "outputs": [
        {
          "output_type": "display_data",
          "data": {
            "image/png": "[encoded data removed]",
            "text/plain": [
              "<Figure size 432x288 with 1 Axes>"
            ]
          },
          "metadata": {
            "needs_background": "light"
          }
        }
      ]
    },
    {
      "cell_type": "code",
      "metadata": {
        "colab": {
          "base_uri": "https://localhost:8080/",
          "height": 279
        },
        "id": "RIwh_KBFl2ND",
        "outputId": "1a1eb943-4ed2-4884-8b49-52135e60a733"
      },
      "source": [
        "# Test  data distribution\n",
        "plt.hist(ds['windspeed'].values[good_quality_indexes][int(0.9 * total_good_dataset_len):], bins = 20)\n",
        "plt.xlabel('Wind Speed')\n",
        "plt.ylabel('Counts')\n",
        "plt.show()"
      ],
      "id": "RIwh_KBFl2ND",
      "execution_count": 16,
      "outputs": [
        {
          "output_type": "display_data",
          "data": {
            "image/png": "[encoded data removed]",
            "text/plain": [
              "<Figure size 432x288 with 1 Axes>"
            ]
          },
          "metadata": {
            "needs_background": "light"
          }
        }
      ]
    },
    {
      "cell_type": "code",
      "metadata": {
        "id": "8c46c857"
      },
      "source": [
        "# Choose a computing device based on availability \n",
        "device = 'cuda' if torch.cuda.is_available() else 'cpu'"
      ],
      "id": "8c46c857",
      "execution_count": 17,
      "outputs": []
    },
    {
      "cell_type": "code",
      "metadata": {
        "id": "e024474a"
      },
      "source": [
        "# Convert to numpy array\n",
        "imageData = ds['brcs'].values\n",
        "windData = ds['windspeed'].values"
      ],
      "id": "e024474a",
      "execution_count": 18,
      "outputs": []
    },
    {
      "cell_type": "code",
      "metadata": {
        "id": "B0jdNMpNh-t8"
      },
      "source": [
        "# standardize all the good quality Images\n",
        "#  can lead to data leakage if axis = 0, in that case separate the training, validation and testing set and calcualte zscore on them individually.\n",
        "imageData = ss.zscore(imageData[good_quality_indexes], axis=1)\n",
        "\n",
        "windData = windData[good_quality_indexes]\n",
        "\n",
        "trainingWindData = windData[training_set]"
      ],
      "id": "B0jdNMpNh-t8",
      "execution_count": 19,
      "outputs": []
    },
    {
      "cell_type": "code",
      "metadata": {
        "id": "-VxSWZ5QZpOM"
      },
      "source": [
        ""
      ],
      "id": "-VxSWZ5QZpOM",
      "execution_count": 19,
      "outputs": []
    },
    {
      "cell_type": "markdown",
      "metadata": {
        "id": "hXnYXJlF_ruE"
      },
      "source": [
        "#Task 2\n",
        "\n",
        "Use a machine learning framework of your choice to implement an artificial neural network that predicts wind speed from CyGNSS measurements. Motivate your choice of network, and discuss your\n",
        "results."
      ],
      "id": "hXnYXJlF_ruE"
    },
    {
      "cell_type": "code",
      "metadata": {
        "id": "8ttl_dpYa21Y"
      },
      "source": [
        "# Get class weights for WeightedRandom Sampler, weight of class = 1/frequency of that class\n",
        "tempWindData = np.around(trainingWindData)\n",
        "tempWindData = tempWindData.astype(int)\n",
        "freq_dict = dict(collections.Counter(tempWindData))\n",
        "class_count = np.array([freq_dict.get(i,0) for i in range(len(freq_dict))])\n",
        "weight=1/class_count\n",
        "samples_weight = np.array([weight[t] for t in tempWindData])\n",
        "samples_weight=torch.from_numpy(samples_weight)\n",
        "\n",
        "if config['randomSampler']:\n",
        "  trainingRandomsampler = WeightedRandomSampler(samples_weight, len(samples_weight))\n",
        "else:\n",
        "  trainingRandomsampler = None"
      ],
      "id": "8ttl_dpYa21Y",
      "execution_count": 20,
      "outputs": []
    },
    {
      "cell_type": "code",
      "metadata": {
        "id": "BbwsiCkC87XE"
      },
      "source": [
        ""
      ],
      "id": "BbwsiCkC87XE",
      "execution_count": 20,
      "outputs": []
    },
    {
      "cell_type": "code",
      "metadata": {
        "colab": {
          "base_uri": "https://localhost:8080/"
        },
        "id": "r0s2cRTxa9f9",
        "outputId": "dc159327-e5e6-4c82-de45-a2415c415c07"
      },
      "source": [
        "# Check if there is some NAN data, set it to 0\n",
        "# numpy.nan_to_num(x, nan = 0)\n",
        "\n",
        "if np.any(np.isnan(imageData)):\n",
        "  imageData[np.isnan(imageData)] = 0\n",
        "\n",
        "np.any(np.isnan(imageData))\n"
      ],
      "id": "r0s2cRTxa9f9",
      "execution_count": 21,
      "outputs": [
        {
          "output_type": "execute_result",
          "data": {
            "text/plain": [
              "False"
            ]
          },
          "metadata": {},
          "execution_count": 21
        }
      ]
    },
    {
      "cell_type": "code",
      "metadata": {
        "id": "tXJOLApIPMd6"
      },
      "source": [
        "# Define Augmentation to be applied on Images to increase the dataset\n",
        "seq = iaa.Sequential([\n",
        "    iaa.Fliplr(0.5), # horizontal flips   \n",
        "    # Small gaussian blur with random sigma between 0 and 0.5.\n",
        "    # But blur about 50% of all images.\n",
        "    iaa.Sometimes(\n",
        "        0.5,\n",
        "        iaa.GaussianBlur(sigma=(0, 0.5))\n",
        "    ),          \n",
        "], random_order=True) # apply augmenters in random order"
      ],
      "id": "tXJOLApIPMd6",
      "execution_count": 22,
      "outputs": []
    },
    {
      "cell_type": "code",
      "metadata": {
        "id": "Tng-dgjG2aeV"
      },
      "source": [
        "# Hyperparams\n",
        "BATCH_SIZE = config['batch_size']\n",
        "LR = config['learning_rate'] \n",
        "transform =  None\n",
        "if config['cnn'] or config['pre_train_cnn'] or config['CNNLSTM']:\n",
        "  transform = transforms.Compose([\n",
        "      seq.augment_image,    \n",
        "  ])   \n",
        "transform =  None"
      ],
      "id": "Tng-dgjG2aeV",
      "execution_count": 23,
      "outputs": []
    },
    {
      "cell_type": "code",
      "metadata": {
        "id": "913b544f"
      },
      "source": [
        "# Generate DataLoaders\n",
        "  \n",
        "# Use different Dataset class for CNN-LSTM\n",
        "if config['CNNLSTM']:\n",
        "  # Dataset\n",
        "  trainDataSet = WindDatasetSequence(training_set, dataset = (imageData, windData), transform=transform)\n",
        "  valDataSet = WindDatasetSequence(val_set, dataset = (imageData, windData), transform=transform)\n",
        "  testDataSet = WindDatasetSequence(test_set, dataset = (imageData, windData), transform=transform)\n",
        "\n",
        "  #DataLoaders\n",
        "  train_loader = dataloader.DataLoader(dataset=trainDataSet, batch_size=BATCH_SIZE, shuffle=False, drop_last = True, num_workers=2, pin_memory=True)\n",
        "  validation_loader = dataloader.DataLoader(dataset=valDataSet, batch_size=BATCH_SIZE, shuffle=False, drop_last = True, num_workers=2, pin_memory=True)\n",
        "  test_loader = dataloader.DataLoader(dataset=testDataSet, batch_size=BATCH_SIZE, shuffle=False, drop_last = True, num_workers=2, pin_memory=True)\n",
        "\n",
        "else:\n",
        "  # Dataset\n",
        "  trainDataSet = WindDataset(training_set, dataset = (imageData, windData), transform=transform)\n",
        "  valDataSet = WindDataset(val_set, dataset = (imageData, windData))\n",
        "  testDataSet = WindDataset(test_set, dataset = (imageData, windData))\n",
        "\n",
        "  # DataLoaders\n",
        "  # Apply RandomWeightedSampler to only train loader, if True, then set shuffle to false\n",
        "  if config['randomSampler']:\n",
        "    train_loader = dataloader.DataLoader(dataset=trainDataSet, batch_size=BATCH_SIZE, shuffle=False, drop_last = True, sampler=trainingRandomsampler, pin_memory=True, num_workers=2)\n",
        "  else:\n",
        "    train_loader = dataloader.DataLoader(dataset=trainDataSet, batch_size=BATCH_SIZE, shuffle=True, drop_last = True, sampler=None, pin_memory=True, num_workers=2)\n",
        "\n",
        "  validation_loader = dataloader.DataLoader(dataset=valDataSet, batch_size=BATCH_SIZE, shuffle=False, drop_last = True)\n",
        "  test_loader = dataloader.DataLoader(dataset=testDataSet, batch_size=BATCH_SIZE, shuffle=False, drop_last = True)"
      ],
      "id": "913b544f",
      "execution_count": 24,
      "outputs": []
    },
    {
      "cell_type": "code",
      "metadata": {
        "colab": {
          "base_uri": "https://localhost:8080/"
        },
        "id": "885d21bd",
        "outputId": "80235022-1b32-476e-b7ce-ef15800dbce9"
      },
      "source": [
        "# Choose a MLP, CNN, a pretrain-CNN or CNN-LSTM Network as per the config settings in config.py file\n",
        "\n",
        "if config['mlp']:\n",
        "  model = MLP().to(device)\n",
        "elif config['cnn']:\n",
        "  model = Net().to(device)\n",
        "elif config['pre_train_cnn']:\n",
        "  model = CNN(num_classes=1)\n",
        "  # Change the Input Channel of the image to 1\n",
        "  model.resnet50.conv1 = nn.Conv2d(1, 64, kernel_size=(7, 7), stride=(2, 2), padding=(3, 3), bias=False)\n",
        "  # Freeze layers before last fully connected layer of pre-train network\n",
        "  for name, param in model.resnet50.named_parameters():\n",
        "      if \"fc.weight\" in name or \"fc.bias\" in name:\n",
        "          param.requires_grad = True    \n",
        "      else:\n",
        "          param.requires_grad = False \n",
        "  model.to(device)\n",
        "elif config['CNNLSTM']:\n",
        "  model = CNNLSTM().to(device)\n",
        "\n",
        "\n",
        "# net architecture\n",
        "print(model) \n",
        "\n",
        "# Define Optimizer, Learning rate Scheduler and Loss\n",
        "optimizer = torch.optim.SGD(model.parameters(), lr=LR, momentum=0.9)   # optimize all cnn parameters\n",
        "scheduler = None\n",
        "\n",
        "# Learning Rate Scheduler\n",
        "if config['scheduler']:\n",
        "  scheduler = optim.lr_scheduler.StepLR(optimizer, step_size=50, gamma=0.01)\n",
        "\n",
        "# Loss\n",
        "criterion = nn.MSELoss()"
      ],
      "id": "885d21bd",
      "execution_count": 25,
      "outputs": [
        {
          "output_type": "stream",
          "name": "stdout",
          "text": [
            "Net(\n",
            "  (SimpleCNN): SimpleCNN(\n",
            "    (conv1): Conv2d(1, 8, kernel_size=(3, 3), stride=(1, 1), padding=(1, 1))\n",
            "    (conv2): Conv2d(8, 16, kernel_size=(3, 3), stride=(1, 1), padding=(1, 1))\n",
            "    (conv3): Conv2d(16, 32, kernel_size=(3, 3), stride=(1, 1), padding=(1, 1))\n",
            "    (pool): MaxPool2d(kernel_size=2, stride=2, padding=0, dilation=1, ceil_mode=False)\n",
            "    (batchnorm1): BatchNorm2d(8, eps=1e-05, momentum=0.1, affine=True, track_running_stats=True)\n",
            "    (batchnorm2): BatchNorm2d(16, eps=1e-05, momentum=0.1, affine=True, track_running_stats=True)\n",
            "    (batchnorm3): BatchNorm2d(32, eps=1e-05, momentum=0.1, affine=True, track_running_stats=True)\n",
            "  )\n",
            "  (dropout): Dropout(p=0.3, inplace=False)\n",
            "  (fc1): Linear(in_features=256, out_features=64, bias=True)\n",
            "  (fc2): Linear(in_features=64, out_features=1, bias=True)\n",
            ")\n"
          ]
        }
      ]
    },
    {
      "cell_type": "code",
      "metadata": {
        "colab": {
          "base_uri": "https://localhost:8080/",
          "height": 35
        },
        "id": "a151dae3",
        "outputId": "188c2f79-1ecd-4a91-fa2b-512cfabd5c0b"
      },
      "source": [
        "device"
      ],
      "id": "a151dae3",
      "execution_count": 26,
      "outputs": [
        {
          "output_type": "execute_result",
          "data": {
            "application/vnd.google.colaboratory.intrinsic+json": {
              "type": "string"
            },
            "text/plain": [
              "'cuda'"
            ]
          },
          "metadata": {},
          "execution_count": 26
        }
      ]
    },
    {
      "cell_type": "code",
      "metadata": {
        "id": "WL2m9KOsUv0Q"
      },
      "source": [
        "# Check Accuracy, by rounding off the Target and Prediction values to Nearest Integer\n",
        "def check_accuracy(loader, model):\n",
        "    acc_type = None\n",
        "    if loader == train_loader:\n",
        "      acc_type = \"train\"      \n",
        "    elif loader == validation_loader:\n",
        "      acc_type = \"val\"\n",
        "    else:\n",
        "      acc_type = \"test\"\n",
        "\n",
        "    num_correct = 0\n",
        "    num_samples = 0\n",
        "    \n",
        "    with torch.no_grad():\n",
        "        model.eval()\n",
        "        for x, y in loader:\n",
        "          if config['cnn'] or config['pre_train_cnn'] :\n",
        "            x = torch.unsqueeze(x, 1)  \n",
        "          elif config['CNNLSTM']:      \n",
        "            x = torch.unsqueeze(x, 2)\n",
        "          elif config['mlp']:\n",
        "            x = x.view(BATCH_SIZE, -1)\n",
        "          \n",
        "          if len(y.size()) == 1:\n",
        "            y = torch.unsqueeze(y, 1)    \n",
        "\n",
        "            x = x.to(device=device)\n",
        "            y = y.to(device=device)            \n",
        "            predictions = model(x)            \n",
        "            predictions = torch.round(predictions)\n",
        "            y = torch.round(y)\n",
        "                        \n",
        "            num_correct += (predictions == y).sum()\n",
        "            num_samples += predictions.size(0)            \n",
        "    print(f\" {acc_type} accuracy {float(num_correct)/float(num_samples)*100 :.2f} % with {num_correct} / {num_samples} \")            \n",
        "    model.train()"
      ],
      "id": "WL2m9KOsUv0Q",
      "execution_count": 27,
      "outputs": []
    },
    {
      "cell_type": "markdown",
      "metadata": {
        "id": "MrQYhtAdEaOD"
      },
      "source": [
        "### Training the Network"
      ],
      "id": "MrQYhtAdEaOD"
    },
    {
      "cell_type": "code",
      "metadata": {
        "colab": {
          "base_uri": "https://localhost:8080/"
        },
        "id": "4b2f27de",
        "outputId": "d7fa9888-482a-4b8f-b384-4f7fc39711c0"
      },
      "source": [
        "n_epochs = config['num_epochs']\n",
        "valid_loss_min = np.Inf\n",
        "val_loss = []\n",
        "train_loss = []\n",
        "total_step = len(train_loader)\n",
        "\n",
        "for epoch in range(1, n_epochs+1):\n",
        "    running_loss = 0.0    \n",
        "    correct = 0\n",
        "    total = 0\n",
        "    print(f'Epoch {epoch}\\n')\n",
        "    for batch_idx, (data, target) in enumerate(train_loader):          \n",
        "        # push the data on GPU, if available\n",
        "        data, target = data.to(device), target.to(device)\n",
        "        # zero the parameter gradients\n",
        "        optimizer.zero_grad()\n",
        "        \n",
        "        # Convert the data according to the choice of network selected in config.py file        \n",
        "        if config['cnn'] or config['pre_train_cnn'] :\n",
        "          data = torch.unsqueeze(data, 1)  \n",
        "        elif config['CNNLSTM']:          \n",
        "          data = torch.unsqueeze(data, 2)\n",
        "        elif config['mlp']:\n",
        "          data = data.view(BATCH_SIZE, -1)\n",
        "        \n",
        "        if len(target.size()) == 1:\n",
        "          target = torch.unsqueeze(target, 1)  \n",
        "\n",
        "        # forward + backward + optimize             \n",
        "        outputs = model(data.float())\n",
        "        target = target.float()                \n",
        "        # Calculate Loss        \n",
        "        loss = criterion(outputs, target)           \n",
        "        loss.backward()\n",
        "        # Update Parameters\n",
        "        optimizer.step()\n",
        "        # print validation statistics\n",
        "        running_loss += loss.item()       \n",
        "        if (batch_idx) % 100 == 0:\n",
        "            print ('Epoch [{}/{}], Step [{}/{}], Loss: {:.4f}' \n",
        "                   .format(epoch, n_epochs, batch_idx, total_step, loss.item()))  \n",
        "    \n",
        "    # Save Training Loss for each epoch Avg Batch loss: (Total_epoch_loss/ Num of batches)\n",
        "    train_loss.append(running_loss/total_step)\n",
        "\n",
        "    # Start Validation\n",
        "    \n",
        "    # validation loss\n",
        "    batch_loss = 0        \n",
        "    with torch.no_grad():\n",
        "        model.eval()\n",
        "        for batch_idx, (data_v, target_v) in enumerate(validation_loader):\n",
        "            # push the data on CPU/GPU\n",
        "            data_v, target_v = data_v.to(device), target_v.to(device)\n",
        "\n",
        "            # Convert the data according to the choice of network selected in config.py file                             \n",
        "            if config['cnn'] or config['pre_train_cnn'] :\n",
        "              data_v = torch.unsqueeze(data_v, 1)      \n",
        "            elif config['CNNLSTM']:   \n",
        "               data_v = torch.unsqueeze(data_v, 2)   \n",
        "            elif config['mlp']:\n",
        "              data_v = data_v.view(BATCH_SIZE, -1)           \n",
        "\n",
        "            target_v = torch.unsqueeze(target_v, 1)  \n",
        "            \n",
        "            # forward \n",
        "            outputs_v = model(data_v.float())\n",
        "\n",
        "            # Calculate loss\n",
        "            loss_v = criterion(outputs_v, target_v)\n",
        "            \n",
        "            # Extract current scalar loss value from tensor and add it to total batch loss\n",
        "            batch_loss += loss_v.item()   \n",
        "\n",
        "        # Save Validation Loss for each epoch Avg Batch loss: (Total_epoch_loss/ Num of batches)\n",
        "        val_loss.append(batch_loss/len(validation_loader))\n",
        "\n",
        "        print(f'validation loss: {np.mean(val_loss):.4f} \\n')\n",
        "                \n",
        "        # Saving the current weights; if val batch_loss is less than previous_val_minimum batch loss \n",
        "        network_learned = batch_loss < valid_loss_min\n",
        "        if network_learned:\n",
        "            valid_loss_min = batch_loss\n",
        "            # Importing Best Saved Network\n",
        "            if config['cnn'] :\n",
        "              torch.save(model.state_dict(), './saved_models_weights/model_regression_cnn.pt')\n",
        "            elif config['pre_train_cnn']:\n",
        "              torch.save(model.state_dict(), './saved_models_weights/model_regression_pre_train_cnn.pt')  \n",
        "            elif config['CNNLSTM']:   \n",
        "              torch.save(model.state_dict(), './saved_models_weights/model_regression_CNNLSTM.pt')  \n",
        "            elif config['mlp']:\n",
        "              torch.save(model.state_dict(), './saved_models_weights/model_regression_mlp.pt')  \n",
        "             \n",
        "            print('Detected network improvement, saving current model')\n",
        "    \n",
        "    # If scheduler is turned on, then decrease the learning rate\n",
        "    if config['scheduler']:\n",
        "      scheduler.step()    \n",
        "    # Switch the model from Eval mode to train mode, for training\n",
        "    model.train()"
      ],
      "id": "4b2f27de",
      "execution_count": 28,
      "outputs": [
        {
          "output_type": "stream",
          "name": "stdout",
          "text": [
            "Epoch 1\n",
            "\n"
          ]
        },
        {
          "output_type": "stream",
          "name": "stderr",
          "text": [
            "/usr/local/lib/python3.7/dist-packages/torch/nn/functional.py:718: UserWarning: Named tensors and all their associated APIs are an experimental feature and subject to change. Please do not use them for anything important until they are released as stable. (Triggered internally at  /pytorch/c10/core/TensorImpl.h:1156.)\n",
            "  return torch.max_pool2d(input, kernel_size, stride, padding, dilation, ceil_mode)\n"
          ]
        },
        {
          "output_type": "stream",
          "name": "stdout",
          "text": [
            "Epoch [1/50], Step [0/633], Loss: 55.5627\n",
            "Epoch [1/50], Step [100/633], Loss: 6.6626\n",
            "Epoch [1/50], Step [200/633], Loss: 6.9881\n",
            "Epoch [1/50], Step [300/633], Loss: 8.5345\n",
            "Epoch [1/50], Step [400/633], Loss: 7.1344\n",
            "Epoch [1/50], Step [500/633], Loss: 6.6594\n",
            "Epoch [1/50], Step [600/633], Loss: 6.9831\n",
            "validation loss: 7.0613 \n",
            "\n",
            "Detected network improvement, saving current model\n",
            "Epoch 2\n",
            "\n",
            "Epoch [2/50], Step [0/633], Loss: 8.0023\n",
            "Epoch [2/50], Step [100/633], Loss: 6.1893\n",
            "Epoch [2/50], Step [200/633], Loss: 5.9331\n",
            "Epoch [2/50], Step [300/633], Loss: 7.1611\n",
            "Epoch [2/50], Step [400/633], Loss: 7.1424\n",
            "Epoch [2/50], Step [500/633], Loss: 7.9981\n",
            "Epoch [2/50], Step [600/633], Loss: 7.5618\n",
            "validation loss: 6.8206 \n",
            "\n",
            "Detected network improvement, saving current model\n",
            "Epoch 3\n",
            "\n",
            "Epoch [3/50], Step [0/633], Loss: 7.2267\n",
            "Epoch [3/50], Step [100/633], Loss: 8.0995\n",
            "Epoch [3/50], Step [200/633], Loss: 6.5176\n",
            "Epoch [3/50], Step [300/633], Loss: 5.9974\n",
            "Epoch [3/50], Step [400/633], Loss: 6.6015\n",
            "Epoch [3/50], Step [500/633], Loss: 6.0581\n",
            "Epoch [3/50], Step [600/633], Loss: 6.0309\n",
            "validation loss: 6.6425 \n",
            "\n",
            "Detected network improvement, saving current model\n",
            "Epoch 4\n",
            "\n",
            "Epoch [4/50], Step [0/633], Loss: 6.8461\n",
            "Epoch [4/50], Step [100/633], Loss: 5.7393\n",
            "Epoch [4/50], Step [200/633], Loss: 6.3093\n",
            "Epoch [4/50], Step [300/633], Loss: 6.2105\n",
            "Epoch [4/50], Step [400/633], Loss: 6.9085\n",
            "Epoch [4/50], Step [500/633], Loss: 7.1324\n",
            "Epoch [4/50], Step [600/633], Loss: 6.3935\n",
            "validation loss: 6.6776 \n",
            "\n",
            "Epoch 5\n",
            "\n",
            "Epoch [5/50], Step [0/633], Loss: 4.9322\n",
            "Epoch [5/50], Step [100/633], Loss: 6.6009\n",
            "Epoch [5/50], Step [200/633], Loss: 6.7881\n",
            "Epoch [5/50], Step [300/633], Loss: 5.4418\n",
            "Epoch [5/50], Step [400/633], Loss: 5.8688\n",
            "Epoch [5/50], Step [500/633], Loss: 6.8090\n",
            "Epoch [5/50], Step [600/633], Loss: 6.3626\n",
            "validation loss: 6.6160 \n",
            "\n",
            "Epoch 6\n",
            "\n",
            "Epoch [6/50], Step [0/633], Loss: 5.8972\n",
            "Epoch [6/50], Step [100/633], Loss: 7.4985\n",
            "Epoch [6/50], Step [200/633], Loss: 5.5710\n",
            "Epoch [6/50], Step [300/633], Loss: 5.5237\n",
            "Epoch [6/50], Step [400/633], Loss: 6.6755\n",
            "Epoch [6/50], Step [500/633], Loss: 5.7786\n",
            "Epoch [6/50], Step [600/633], Loss: 5.6005\n",
            "validation loss: 6.5275 \n",
            "\n",
            "Detected network improvement, saving current model\n",
            "Epoch 7\n",
            "\n",
            "Epoch [7/50], Step [0/633], Loss: 6.6093\n",
            "Epoch [7/50], Step [100/633], Loss: 6.5249\n",
            "Epoch [7/50], Step [200/633], Loss: 5.0282\n",
            "Epoch [7/50], Step [300/633], Loss: 5.8187\n",
            "Epoch [7/50], Step [400/633], Loss: 6.5183\n",
            "Epoch [7/50], Step [500/633], Loss: 6.3374\n",
            "Epoch [7/50], Step [600/633], Loss: 6.4679\n",
            "validation loss: 6.4721 \n",
            "\n",
            "Epoch 8\n",
            "\n",
            "Epoch [8/50], Step [0/633], Loss: 6.7409\n",
            "Epoch [8/50], Step [100/633], Loss: 5.6181\n",
            "Epoch [8/50], Step [200/633], Loss: 7.5828\n",
            "Epoch [8/50], Step [300/633], Loss: 6.8518\n",
            "Epoch [8/50], Step [400/633], Loss: 4.8106\n",
            "Epoch [8/50], Step [500/633], Loss: 6.2031\n",
            "Epoch [8/50], Step [600/633], Loss: 5.4126\n",
            "validation loss: 6.4308 \n",
            "\n",
            "Epoch 9\n",
            "\n",
            "Epoch [9/50], Step [0/633], Loss: 5.1606\n",
            "Epoch [9/50], Step [100/633], Loss: 5.9576\n",
            "Epoch [9/50], Step [200/633], Loss: 6.5231\n",
            "Epoch [9/50], Step [300/633], Loss: 6.9613\n",
            "Epoch [9/50], Step [400/633], Loss: 5.8411\n",
            "Epoch [9/50], Step [500/633], Loss: 6.4961\n",
            "Epoch [9/50], Step [600/633], Loss: 6.5752\n",
            "validation loss: 6.4476 \n",
            "\n",
            "Epoch 10\n",
            "\n",
            "Epoch [10/50], Step [0/633], Loss: 5.5143\n",
            "Epoch [10/50], Step [100/633], Loss: 6.4693\n",
            "Epoch [10/50], Step [200/633], Loss: 4.7859\n",
            "Epoch [10/50], Step [300/633], Loss: 4.7899\n",
            "Epoch [10/50], Step [400/633], Loss: 7.5325\n",
            "Epoch [10/50], Step [500/633], Loss: 6.1443\n",
            "Epoch [10/50], Step [600/633], Loss: 6.3891\n",
            "validation loss: 6.4015 \n",
            "\n",
            "Detected network improvement, saving current model\n",
            "Epoch 11\n",
            "\n",
            "Epoch [11/50], Step [0/633], Loss: 5.1887\n",
            "Epoch [11/50], Step [100/633], Loss: 5.9423\n",
            "Epoch [11/50], Step [200/633], Loss: 5.9836\n",
            "Epoch [11/50], Step [300/633], Loss: 5.9921\n",
            "Epoch [11/50], Step [400/633], Loss: 6.2099\n",
            "Epoch [11/50], Step [500/633], Loss: 7.1505\n",
            "Epoch [11/50], Step [600/633], Loss: 5.5767\n",
            "validation loss: 6.3623 \n",
            "\n",
            "Detected network improvement, saving current model\n",
            "Epoch 12\n",
            "\n",
            "Epoch [12/50], Step [0/633], Loss: 5.5146\n",
            "Epoch [12/50], Step [100/633], Loss: 7.5246\n",
            "Epoch [12/50], Step [200/633], Loss: 5.6147\n",
            "Epoch [12/50], Step [300/633], Loss: 6.8165\n",
            "Epoch [12/50], Step [400/633], Loss: 6.4951\n",
            "Epoch [12/50], Step [500/633], Loss: 6.0348\n",
            "Epoch [12/50], Step [600/633], Loss: 4.9927\n",
            "validation loss: 6.3302 \n",
            "\n",
            "Epoch 13\n",
            "\n",
            "Epoch [13/50], Step [0/633], Loss: 5.6317\n",
            "Epoch [13/50], Step [100/633], Loss: 5.6075\n",
            "Epoch [13/50], Step [200/633], Loss: 6.7636\n",
            "Epoch [13/50], Step [300/633], Loss: 5.9365\n",
            "Epoch [13/50], Step [400/633], Loss: 5.9480\n",
            "Epoch [13/50], Step [500/633], Loss: 6.4737\n",
            "Epoch [13/50], Step [600/633], Loss: 5.5073\n",
            "validation loss: 6.3181 \n",
            "\n",
            "Epoch 14\n",
            "\n",
            "Epoch [14/50], Step [0/633], Loss: 5.8767\n",
            "Epoch [14/50], Step [100/633], Loss: 5.5719\n",
            "Epoch [14/50], Step [200/633], Loss: 4.6501\n",
            "Epoch [14/50], Step [300/633], Loss: 5.6264\n",
            "Epoch [14/50], Step [400/633], Loss: 5.2650\n",
            "Epoch [14/50], Step [500/633], Loss: 6.2166\n",
            "Epoch [14/50], Step [600/633], Loss: 5.6940\n",
            "validation loss: 6.3177 \n",
            "\n",
            "Epoch 15\n",
            "\n",
            "Epoch [15/50], Step [0/633], Loss: 7.1125\n",
            "Epoch [15/50], Step [100/633], Loss: 6.1560\n",
            "Epoch [15/50], Step [200/633], Loss: 5.5220\n",
            "Epoch [15/50], Step [300/633], Loss: 5.0478\n",
            "Epoch [15/50], Step [400/633], Loss: 5.6282\n",
            "Epoch [15/50], Step [500/633], Loss: 7.3889\n",
            "Epoch [15/50], Step [600/633], Loss: 6.4194\n",
            "validation loss: 6.3073 \n",
            "\n",
            "Epoch 16\n",
            "\n",
            "Epoch [16/50], Step [0/633], Loss: 5.3795\n",
            "Epoch [16/50], Step [100/633], Loss: 6.6549\n",
            "Epoch [16/50], Step [200/633], Loss: 5.2626\n",
            "Epoch [16/50], Step [300/633], Loss: 5.0910\n",
            "Epoch [16/50], Step [400/633], Loss: 5.7992\n",
            "Epoch [16/50], Step [500/633], Loss: 5.7561\n",
            "Epoch [16/50], Step [600/633], Loss: 6.2079\n",
            "validation loss: 6.2909 \n",
            "\n",
            "Epoch 17\n",
            "\n",
            "Epoch [17/50], Step [0/633], Loss: 6.8256\n",
            "Epoch [17/50], Step [100/633], Loss: 7.1185\n",
            "Epoch [17/50], Step [200/633], Loss: 6.9930\n",
            "Epoch [17/50], Step [300/633], Loss: 6.5161\n",
            "Epoch [17/50], Step [400/633], Loss: 5.6760\n",
            "Epoch [17/50], Step [500/633], Loss: 5.7435\n",
            "Epoch [17/50], Step [600/633], Loss: 6.3475\n",
            "validation loss: 6.2693 \n",
            "\n",
            "Detected network improvement, saving current model\n",
            "Epoch 18\n",
            "\n",
            "Epoch [18/50], Step [0/633], Loss: 5.9618\n",
            "Epoch [18/50], Step [100/633], Loss: 5.7139\n",
            "Epoch [18/50], Step [200/633], Loss: 5.6812\n",
            "Epoch [18/50], Step [300/633], Loss: 6.4439\n",
            "Epoch [18/50], Step [400/633], Loss: 6.5016\n",
            "Epoch [18/50], Step [500/633], Loss: 5.9449\n",
            "Epoch [18/50], Step [600/633], Loss: 6.2456\n",
            "validation loss: 6.2515 \n",
            "\n",
            "Epoch 19\n",
            "\n",
            "Epoch [19/50], Step [0/633], Loss: 5.9241\n",
            "Epoch [19/50], Step [100/633], Loss: 5.5573\n",
            "Epoch [19/50], Step [200/633], Loss: 5.3896\n",
            "Epoch [19/50], Step [300/633], Loss: 5.8548\n",
            "Epoch [19/50], Step [400/633], Loss: 6.8052\n",
            "Epoch [19/50], Step [500/633], Loss: 7.1011\n",
            "Epoch [19/50], Step [600/633], Loss: 6.5982\n",
            "validation loss: 6.2355 \n",
            "\n",
            "Epoch 20\n",
            "\n",
            "Epoch [20/50], Step [0/633], Loss: 5.5425\n",
            "Epoch [20/50], Step [100/633], Loss: 5.7869\n",
            "Epoch [20/50], Step [200/633], Loss: 6.4617\n",
            "Epoch [20/50], Step [300/633], Loss: 5.1779\n",
            "Epoch [20/50], Step [400/633], Loss: 4.9806\n",
            "Epoch [20/50], Step [500/633], Loss: 5.6878\n",
            "Epoch [20/50], Step [600/633], Loss: 5.6826\n",
            "validation loss: 6.2220 \n",
            "\n",
            "Epoch 21\n",
            "\n",
            "Epoch [21/50], Step [0/633], Loss: 6.0559\n",
            "Epoch [21/50], Step [100/633], Loss: 6.3034\n",
            "Epoch [21/50], Step [200/633], Loss: 5.1636\n",
            "Epoch [21/50], Step [300/633], Loss: 5.9164\n",
            "Epoch [21/50], Step [400/633], Loss: 5.9425\n",
            "Epoch [21/50], Step [500/633], Loss: 5.0413\n",
            "Epoch [21/50], Step [600/633], Loss: 5.3015\n",
            "validation loss: 6.2071 \n",
            "\n",
            "Detected network improvement, saving current model\n",
            "Epoch 22\n",
            "\n",
            "Epoch [22/50], Step [0/633], Loss: 6.7093\n",
            "Epoch [22/50], Step [100/633], Loss: 5.4757\n",
            "Epoch [22/50], Step [200/633], Loss: 5.6228\n",
            "Epoch [22/50], Step [300/633], Loss: 5.2838\n",
            "Epoch [22/50], Step [400/633], Loss: 5.1782\n",
            "Epoch [22/50], Step [500/633], Loss: 5.2743\n",
            "Epoch [22/50], Step [600/633], Loss: 6.1729\n",
            "validation loss: 6.2030 \n",
            "\n",
            "Epoch 23\n",
            "\n",
            "Epoch [23/50], Step [0/633], Loss: 7.0583\n",
            "Epoch [23/50], Step [100/633], Loss: 4.9876\n",
            "Epoch [23/50], Step [200/633], Loss: 5.3385\n",
            "Epoch [23/50], Step [300/633], Loss: 5.0032\n",
            "Epoch [23/50], Step [400/633], Loss: 5.4752\n",
            "Epoch [23/50], Step [500/633], Loss: 6.0137\n",
            "Epoch [23/50], Step [600/633], Loss: 5.0448\n",
            "validation loss: 6.1981 \n",
            "\n",
            "Epoch 24\n",
            "\n",
            "Epoch [24/50], Step [0/633], Loss: 5.9329\n",
            "Epoch [24/50], Step [100/633], Loss: 5.2236\n",
            "Epoch [24/50], Step [200/633], Loss: 5.8482\n",
            "Epoch [24/50], Step [300/633], Loss: 5.1135\n",
            "Epoch [24/50], Step [400/633], Loss: 6.9577\n",
            "Epoch [24/50], Step [500/633], Loss: 6.3524\n",
            "Epoch [24/50], Step [600/633], Loss: 5.5417\n",
            "validation loss: 6.1860 \n",
            "\n",
            "Detected network improvement, saving current model\n",
            "Epoch 25\n",
            "\n",
            "Epoch [25/50], Step [0/633], Loss: 5.5641\n",
            "Epoch [25/50], Step [100/633], Loss: 5.3706\n",
            "Epoch [25/50], Step [200/633], Loss: 5.4247\n",
            "Epoch [25/50], Step [300/633], Loss: 5.6722\n",
            "Epoch [25/50], Step [400/633], Loss: 5.8881\n",
            "Epoch [25/50], Step [500/633], Loss: 5.3085\n",
            "Epoch [25/50], Step [600/633], Loss: 5.2757\n",
            "validation loss: 6.1767 \n",
            "\n",
            "Epoch 26\n",
            "\n",
            "Epoch [26/50], Step [0/633], Loss: 5.5609\n",
            "Epoch [26/50], Step [100/633], Loss: 5.4383\n",
            "Epoch [26/50], Step [200/633], Loss: 5.5639\n",
            "Epoch [26/50], Step [300/633], Loss: 6.5444\n",
            "Epoch [26/50], Step [400/633], Loss: 6.8981\n",
            "Epoch [26/50], Step [500/633], Loss: 6.3034\n",
            "Epoch [26/50], Step [600/633], Loss: 5.0288\n",
            "validation loss: 6.1668 \n",
            "\n",
            "Epoch 27\n",
            "\n",
            "Epoch [27/50], Step [0/633], Loss: 5.1852\n",
            "Epoch [27/50], Step [100/633], Loss: 5.3446\n",
            "Epoch [27/50], Step [200/633], Loss: 5.5166\n",
            "Epoch [27/50], Step [300/633], Loss: 6.1904\n",
            "Epoch [27/50], Step [400/633], Loss: 5.9761\n",
            "Epoch [27/50], Step [500/633], Loss: 4.6462\n",
            "Epoch [27/50], Step [600/633], Loss: 6.5421\n",
            "validation loss: 6.1640 \n",
            "\n",
            "Epoch 28\n",
            "\n",
            "Epoch [28/50], Step [0/633], Loss: 5.8354\n",
            "Epoch [28/50], Step [100/633], Loss: 6.2556\n",
            "Epoch [28/50], Step [200/633], Loss: 6.4750\n",
            "Epoch [28/50], Step [300/633], Loss: 4.8386\n",
            "Epoch [28/50], Step [400/633], Loss: 5.8809\n",
            "Epoch [28/50], Step [500/633], Loss: 6.5909\n",
            "Epoch [28/50], Step [600/633], Loss: 6.3167\n",
            "validation loss: 6.1592 \n",
            "\n",
            "Epoch 29\n",
            "\n",
            "Epoch [29/50], Step [0/633], Loss: 6.6396\n",
            "Epoch [29/50], Step [100/633], Loss: 4.7646\n",
            "Epoch [29/50], Step [200/633], Loss: 5.5009\n",
            "Epoch [29/50], Step [300/633], Loss: 5.9313\n",
            "Epoch [29/50], Step [400/633], Loss: 5.8561\n",
            "Epoch [29/50], Step [500/633], Loss: 6.7260\n",
            "Epoch [29/50], Step [600/633], Loss: 5.0780\n",
            "validation loss: 6.1517 \n",
            "\n",
            "Epoch 30\n",
            "\n",
            "Epoch [30/50], Step [0/633], Loss: 6.1326\n",
            "Epoch [30/50], Step [100/633], Loss: 5.6982\n",
            "Epoch [30/50], Step [200/633], Loss: 4.7924\n",
            "Epoch [30/50], Step [300/633], Loss: 6.2131\n",
            "Epoch [30/50], Step [400/633], Loss: 6.3840\n",
            "Epoch [30/50], Step [500/633], Loss: 5.3181\n",
            "Epoch [30/50], Step [600/633], Loss: 6.3470\n",
            "validation loss: 6.1557 \n",
            "\n",
            "Epoch 31\n",
            "\n",
            "Epoch [31/50], Step [0/633], Loss: 6.2207\n",
            "Epoch [31/50], Step [100/633], Loss: 5.1684\n",
            "Epoch [31/50], Step [200/633], Loss: 6.2602\n",
            "Epoch [31/50], Step [300/633], Loss: 5.8093\n",
            "Epoch [31/50], Step [400/633], Loss: 6.6234\n",
            "Epoch [31/50], Step [500/633], Loss: 5.3786\n",
            "Epoch [31/50], Step [600/633], Loss: 6.4942\n",
            "validation loss: 6.1487 \n",
            "\n",
            "Epoch 32\n",
            "\n",
            "Epoch [32/50], Step [0/633], Loss: 5.8168\n",
            "Epoch [32/50], Step [100/633], Loss: 6.6781\n",
            "Epoch [32/50], Step [200/633], Loss: 5.4856\n",
            "Epoch [32/50], Step [300/633], Loss: 7.6533\n",
            "Epoch [32/50], Step [400/633], Loss: 6.1641\n",
            "Epoch [32/50], Step [500/633], Loss: 5.6356\n",
            "Epoch [32/50], Step [600/633], Loss: 5.1273\n",
            "validation loss: 6.1424 \n",
            "\n",
            "Epoch 33\n",
            "\n",
            "Epoch [33/50], Step [0/633], Loss: 6.2651\n",
            "Epoch [33/50], Step [100/633], Loss: 5.7680\n",
            "Epoch [33/50], Step [200/633], Loss: 6.8816\n",
            "Epoch [33/50], Step [300/633], Loss: 6.0767\n",
            "Epoch [33/50], Step [400/633], Loss: 5.1207\n",
            "Epoch [33/50], Step [500/633], Loss: 5.6072\n",
            "Epoch [33/50], Step [600/633], Loss: 6.1825\n",
            "validation loss: 6.1391 \n",
            "\n",
            "Epoch 34\n",
            "\n",
            "Epoch [34/50], Step [0/633], Loss: 6.9456\n",
            "Epoch [34/50], Step [100/633], Loss: 5.7562\n",
            "Epoch [34/50], Step [200/633], Loss: 6.4115\n",
            "Epoch [34/50], Step [300/633], Loss: 5.7808\n",
            "Epoch [34/50], Step [400/633], Loss: 5.3929\n",
            "Epoch [34/50], Step [500/633], Loss: 6.0990\n",
            "Epoch [34/50], Step [600/633], Loss: 4.6925\n",
            "validation loss: 6.1362 \n",
            "\n",
            "Epoch 35\n",
            "\n",
            "Epoch [35/50], Step [0/633], Loss: 5.2176\n",
            "Epoch [35/50], Step [100/633], Loss: 5.3459\n",
            "Epoch [35/50], Step [200/633], Loss: 5.6158\n",
            "Epoch [35/50], Step [300/633], Loss: 4.8352\n",
            "Epoch [35/50], Step [400/633], Loss: 6.0650\n",
            "Epoch [35/50], Step [500/633], Loss: 5.0645\n",
            "Epoch [35/50], Step [600/633], Loss: 6.1034\n",
            "validation loss: 6.1325 \n",
            "\n",
            "Epoch 36\n",
            "\n",
            "Epoch [36/50], Step [0/633], Loss: 6.1890\n",
            "Epoch [36/50], Step [100/633], Loss: 5.1270\n",
            "Epoch [36/50], Step [200/633], Loss: 5.2723\n",
            "Epoch [36/50], Step [300/633], Loss: 5.8516\n",
            "Epoch [36/50], Step [400/633], Loss: 6.7297\n",
            "Epoch [36/50], Step [500/633], Loss: 5.9577\n",
            "Epoch [36/50], Step [600/633], Loss: 6.3550\n",
            "validation loss: 6.1286 \n",
            "\n",
            "Epoch 37\n",
            "\n",
            "Epoch [37/50], Step [0/633], Loss: 4.8447\n",
            "Epoch [37/50], Step [100/633], Loss: 5.0387\n",
            "Epoch [37/50], Step [200/633], Loss: 6.2349\n",
            "Epoch [37/50], Step [300/633], Loss: 5.9627\n",
            "Epoch [37/50], Step [400/633], Loss: 6.8247\n",
            "Epoch [37/50], Step [500/633], Loss: 6.4772\n",
            "Epoch [37/50], Step [600/633], Loss: 6.1228\n",
            "validation loss: 6.1230 \n",
            "\n",
            "Epoch 38\n",
            "\n",
            "Epoch [38/50], Step [0/633], Loss: 6.7634\n",
            "Epoch [38/50], Step [100/633], Loss: 5.5298\n",
            "Epoch [38/50], Step [200/633], Loss: 6.4446\n",
            "Epoch [38/50], Step [300/633], Loss: 5.9276\n",
            "Epoch [38/50], Step [400/633], Loss: 5.5177\n",
            "Epoch [38/50], Step [500/633], Loss: 5.8975\n",
            "Epoch [38/50], Step [600/633], Loss: 5.9227\n",
            "validation loss: 6.1285 \n",
            "\n",
            "Epoch 39\n",
            "\n",
            "Epoch [39/50], Step [0/633], Loss: 5.8519\n",
            "Epoch [39/50], Step [100/633], Loss: 6.1772\n",
            "Epoch [39/50], Step [200/633], Loss: 5.8922\n",
            "Epoch [39/50], Step [300/633], Loss: 6.0128\n",
            "Epoch [39/50], Step [400/633], Loss: 6.5051\n",
            "Epoch [39/50], Step [500/633], Loss: 6.5772\n",
            "Epoch [39/50], Step [600/633], Loss: 5.7029\n",
            "validation loss: 6.1271 \n",
            "\n",
            "Epoch 40\n",
            "\n",
            "Epoch [40/50], Step [0/633], Loss: 4.5566\n",
            "Epoch [40/50], Step [100/633], Loss: 5.3714\n",
            "Epoch [40/50], Step [200/633], Loss: 6.3037\n",
            "Epoch [40/50], Step [300/633], Loss: 4.9161\n",
            "Epoch [40/50], Step [400/633], Loss: 5.2836\n",
            "Epoch [40/50], Step [500/633], Loss: 4.7824\n",
            "Epoch [40/50], Step [600/633], Loss: 5.9794\n",
            "validation loss: 6.1230 \n",
            "\n",
            "Epoch 41\n",
            "\n",
            "Epoch [41/50], Step [0/633], Loss: 5.9343\n",
            "Epoch [41/50], Step [100/633], Loss: 6.8131\n",
            "Epoch [41/50], Step [200/633], Loss: 4.9548\n",
            "Epoch [41/50], Step [300/633], Loss: 5.8493\n",
            "Epoch [41/50], Step [400/633], Loss: 5.4759\n",
            "Epoch [41/50], Step [500/633], Loss: 6.4221\n",
            "Epoch [41/50], Step [600/633], Loss: 5.7227\n",
            "validation loss: 6.1181 \n",
            "\n",
            "Epoch 42\n",
            "\n",
            "Epoch [42/50], Step [0/633], Loss: 5.8777\n",
            "Epoch [42/50], Step [100/633], Loss: 5.4979\n",
            "Epoch [42/50], Step [200/633], Loss: 6.5057\n",
            "Epoch [42/50], Step [300/633], Loss: 6.3518\n",
            "Epoch [42/50], Step [400/633], Loss: 5.3378\n",
            "Epoch [42/50], Step [500/633], Loss: 5.9692\n",
            "Epoch [42/50], Step [600/633], Loss: 6.2741\n",
            "validation loss: 6.1177 \n",
            "\n",
            "Epoch 43\n",
            "\n",
            "Epoch [43/50], Step [0/633], Loss: 4.9909\n",
            "Epoch [43/50], Step [100/633], Loss: 6.0227\n",
            "Epoch [43/50], Step [200/633], Loss: 5.5328\n",
            "Epoch [43/50], Step [300/633], Loss: 5.1569\n",
            "Epoch [43/50], Step [400/633], Loss: 4.3007\n",
            "Epoch [43/50], Step [500/633], Loss: 5.9227\n",
            "Epoch [43/50], Step [600/633], Loss: 5.6969\n",
            "validation loss: 6.1163 \n",
            "\n",
            "Epoch 44\n",
            "\n",
            "Epoch [44/50], Step [0/633], Loss: 5.6214\n",
            "Epoch [44/50], Step [100/633], Loss: 5.6133\n",
            "Epoch [44/50], Step [200/633], Loss: 6.2232\n",
            "Epoch [44/50], Step [300/633], Loss: 5.7165\n",
            "Epoch [44/50], Step [400/633], Loss: 6.6466\n",
            "Epoch [44/50], Step [500/633], Loss: 4.9157\n",
            "Epoch [44/50], Step [600/633], Loss: 4.7828\n",
            "validation loss: 6.1137 \n",
            "\n",
            "Epoch 45\n",
            "\n",
            "Epoch [45/50], Step [0/633], Loss: 6.5154\n",
            "Epoch [45/50], Step [100/633], Loss: 5.6196\n",
            "Epoch [45/50], Step [200/633], Loss: 6.0960\n",
            "Epoch [45/50], Step [300/633], Loss: 5.3001\n",
            "Epoch [45/50], Step [400/633], Loss: 5.1348\n",
            "Epoch [45/50], Step [500/633], Loss: 5.1829\n",
            "Epoch [45/50], Step [600/633], Loss: 4.8730\n",
            "validation loss: 6.1347 \n",
            "\n",
            "Epoch 46\n",
            "\n",
            "Epoch [46/50], Step [0/633], Loss: 4.9967\n",
            "Epoch [46/50], Step [100/633], Loss: 6.6603\n",
            "Epoch [46/50], Step [200/633], Loss: 5.6650\n",
            "Epoch [46/50], Step [300/633], Loss: 5.5832\n",
            "Epoch [46/50], Step [400/633], Loss: 5.5957\n",
            "Epoch [46/50], Step [500/633], Loss: 5.5405\n",
            "Epoch [46/50], Step [600/633], Loss: 4.6381\n",
            "validation loss: 6.1328 \n",
            "\n",
            "Epoch 47\n",
            "\n",
            "Epoch [47/50], Step [0/633], Loss: 6.2774\n",
            "Epoch [47/50], Step [100/633], Loss: 5.4194\n",
            "Epoch [47/50], Step [200/633], Loss: 7.3661\n",
            "Epoch [47/50], Step [300/633], Loss: 6.2575\n",
            "Epoch [47/50], Step [400/633], Loss: 6.3683\n",
            "Epoch [47/50], Step [500/633], Loss: 5.7064\n",
            "Epoch [47/50], Step [600/633], Loss: 5.2630\n",
            "validation loss: 6.1300 \n",
            "\n",
            "Epoch 48\n",
            "\n",
            "Epoch [48/50], Step [0/633], Loss: 5.3156\n",
            "Epoch [48/50], Step [100/633], Loss: 6.4413\n",
            "Epoch [48/50], Step [200/633], Loss: 5.3765\n",
            "Epoch [48/50], Step [300/633], Loss: 5.9807\n",
            "Epoch [48/50], Step [400/633], Loss: 6.0323\n",
            "Epoch [48/50], Step [500/633], Loss: 6.5930\n",
            "Epoch [48/50], Step [600/633], Loss: 6.1443\n",
            "validation loss: 6.1326 \n",
            "\n",
            "Epoch 49\n",
            "\n",
            "Epoch [49/50], Step [0/633], Loss: 5.8861\n",
            "Epoch [49/50], Step [100/633], Loss: 5.7161\n",
            "Epoch [49/50], Step [200/633], Loss: 5.2422\n",
            "Epoch [49/50], Step [300/633], Loss: 6.2699\n",
            "Epoch [49/50], Step [400/633], Loss: 5.4048\n",
            "Epoch [49/50], Step [500/633], Loss: 5.0560\n",
            "Epoch [49/50], Step [600/633], Loss: 5.1812\n",
            "validation loss: 6.1435 \n",
            "\n",
            "Epoch 50\n",
            "\n",
            "Epoch [50/50], Step [0/633], Loss: 5.8784\n",
            "Epoch [50/50], Step [100/633], Loss: 5.4764\n",
            "Epoch [50/50], Step [200/633], Loss: 6.4594\n",
            "Epoch [50/50], Step [300/633], Loss: 5.9869\n",
            "Epoch [50/50], Step [400/633], Loss: 5.0046\n",
            "Epoch [50/50], Step [500/633], Loss: 6.0864\n",
            "Epoch [50/50], Step [600/633], Loss: 6.1826\n",
            "validation loss: 6.1411 \n",
            "\n"
          ]
        }
      ]
    },
    {
      "cell_type": "markdown",
      "metadata": {
        "id": "kFYEXGUDKFCb"
      },
      "source": [
        "### Training vs Validation Loss "
      ],
      "id": "kFYEXGUDKFCb"
    },
    {
      "cell_type": "code",
      "metadata": {
        "colab": {
          "base_uri": "https://localhost:8080/",
          "height": 536
        },
        "id": "fc947feb",
        "outputId": "60a1ab87-ec59-4c46-fc26-f5a4586e6829"
      },
      "source": [
        "fig = plt.figure(figsize=(20,10))\n",
        "plt.title(\"Train - Validation Loss\")\n",
        "plt.plot( train_loss, label='train')\n",
        "plt.plot( val_loss, label='validation')\n",
        "plt.xlabel('num_epochs', fontsize=12)\n",
        "plt.ylabel('loss', fontsize=12)\n",
        "plt.legend(loc='best')"
      ],
      "id": "fc947feb",
      "execution_count": 29,
      "outputs": [
        {
          "output_type": "execute_result",
          "data": {
            "text/plain": [
              "<matplotlib.legend.Legend at 0x7f5fb7ac3450>"
            ]
          },
          "metadata": {},
          "execution_count": 29
        },
        {
          "output_type": "display_data",
          "data": {
            "image/png": "[encoded data removed]",
            "text/plain": [
              "<Figure size 1440x720 with 1 Axes>"
            ]
          },
          "metadata": {
            "needs_background": "light"
          }
        }
      ]
    },
    {
      "cell_type": "code",
      "metadata": {
        "id": "572d3a0a"
      },
      "source": [
        "# Importing Best Saved Network\n",
        "if config['cnn'] :\n",
        "  model.load_state_dict(torch.load('./saved_models_weights/model_regression_cnn.pt'))\n",
        "elif config['pre_train_cnn']:\n",
        "  model.load_state_dict(torch.load('./saved_models_weights/model_regression_pre_train_cnn.pt'))\n",
        "elif config['CNNLSTM']:   \n",
        "  model.load_state_dict(torch.load('./saved_models_weights/model_regression_CNNLSTM.pt'))\n",
        "elif config['mlp']:\n",
        "  model.load_state_dict(torch.load('./saved_models_weights/model_regression_mlp.pt'))"
      ],
      "id": "572d3a0a",
      "execution_count": 30,
      "outputs": []
    },
    {
      "cell_type": "code",
      "metadata": {
        "id": "jkgiCVFX2wjt"
      },
      "source": [
        "# Defining dataloader again, Setting the Transform to None for CNN part\n",
        "\n",
        "if config['CNNLSTM']:  \n",
        "  trainDataSet = WindDatasetSequence(training_set, dataset = (imageData, windData), transform=transform)\n",
        "  train_loader = dataloader.DataLoader(dataset=trainDataSet, batch_size=BATCH_SIZE, shuffle=False, drop_last = True, num_workers=2, pin_memory=True)\n",
        "else:  \n",
        "  trainDataSet = WindDataset(training_set, dataset = (imageData, windData), transform=None)\n",
        "  train_loader = dataloader.DataLoader(dataset=trainDataSet, batch_size=BATCH_SIZE, shuffle=False, drop_last = True, sampler=trainingRandomsampler)\n",
        "\n"
      ],
      "id": "jkgiCVFX2wjt",
      "execution_count": 31,
      "outputs": []
    },
    {
      "cell_type": "markdown",
      "metadata": {
        "id": "c9siBvBMLcCF"
      },
      "source": [
        "### Results"
      ],
      "id": "c9siBvBMLcCF"
    },
    {
      "cell_type": "code",
      "metadata": {
        "colab": {
          "base_uri": "https://localhost:8080/"
        },
        "id": "2bf1d572",
        "outputId": "db41d89b-219c-4912-de9f-db3a93b4fd21"
      },
      "source": [
        "# Calculate Loss for Train, Validation and Test dataset \n",
        "\n",
        "def mse(loader):\n",
        "  loss = []\n",
        "  targets = [] \n",
        "  pred = []\n",
        "  batch_loss = 0\n",
        "  test_targets_ = []\n",
        "  test_pred_ = []\n",
        "  with torch.no_grad():\n",
        "    model.eval()\n",
        "    for data_t, target_t in (loader):\n",
        "        # push the data on GPU, if available\n",
        "        data_t, target_t = data_t.to(device), target_t.to(device)# on GPU              \n",
        "        # Convert the data according to the choice of network selected in config.py file                             \n",
        "        if config['cnn'] or config['pre_train_cnn'] :\n",
        "          data_t = torch.unsqueeze(data_t, 1)      \n",
        "        elif config['CNNLSTM']:   \n",
        "          data_t = torch.unsqueeze(data_t, 2)   \n",
        "        elif config['mlp']:\n",
        "          data_t = data_t.view(BATCH_SIZE, -1)              \n",
        "        \n",
        "        target_t = torch.unsqueeze(target_t, 1)  \n",
        "        # forward\n",
        "        outputs_t = model(data_t.float())        \n",
        "        \n",
        "        targets.append(target_t)\n",
        "        pred.append(outputs_t)\n",
        "        # Calculate Loss and update batch loss\n",
        "        loss_t = criterion(outputs_t, target_t)\n",
        "        batch_loss += loss_t.item()\n",
        "    \n",
        "    loss = batch_loss/len(loader)    \n",
        "    return loss, targets, pred\n",
        "\n",
        "train_mse,_, _ = mse(train_loader)\n",
        "val_mse, _, _  = mse(validation_loader)\n",
        "test_mse, targets, pred = mse(test_loader)\n",
        "\n",
        "print(f' \\n \\n train loss: {train_mse} \\n \\n  val loss: {val_mse} \\n \\n test loss: {test_mse}')"
      ],
      "id": "2bf1d572",
      "execution_count": 32,
      "outputs": [
        {
          "output_type": "stream",
          "name": "stdout",
          "text": [
            " \n",
            " \n",
            " train loss: 5.655253315072916 \n",
            " \n",
            "  val loss: 5.906759410576749 \n",
            " \n",
            " test loss: 5.490530531856671\n"
          ]
        }
      ]
    },
    {
      "cell_type": "code",
      "metadata": {
        "colab": {
          "base_uri": "https://localhost:8080/",
          "height": 280
        },
        "id": "vACyNyC_9kZ7",
        "outputId": "6e8fcd82-1724-453d-b7d3-1af53d71e873"
      },
      "source": [
        "# Create Scatter plot for TrainingData and prediction Data\n",
        "test_targets_ = targets\n",
        "test_pred_ = pred\n",
        "test_targets_ = [x.cpu().detach().numpy() for x in test_targets_] \n",
        "test_pred_ =  [x.cpu().detach().numpy() for x in test_pred_] \n",
        "plt.scatter(test_pred_, test_targets_)\n",
        "plt.xlabel('test_pred')\n",
        "plt.ylabel('test_targets') \n",
        "plt.show()"
      ],
      "id": "vACyNyC_9kZ7",
      "execution_count": 33,
      "outputs": [
        {
          "output_type": "display_data",
          "data": {
            "image/png": "[encoded data removed]",
            "text/plain": [
              "<Figure size 432x288 with 1 Axes>"
            ]
          },
          "metadata": {
            "needs_background": "light"
          }
        }
      ]
    },
    {
      "cell_type": "code",
      "metadata": {
        "id": "08693413"
      },
      "source": [
        "# Preprocess test and target Y(label) data for Bar chart\n",
        "\n",
        "pred = np.reshape(test_pred_, (-1))\n",
        "pred = np.round(pred)\n",
        "pred = pred.astype(int)\n",
        "\n",
        "target = np.reshape(test_targets_, (-1))\n",
        "target = np.round(target)\n",
        "target = target.astype(int)\n",
        "\n",
        "target = collections.Counter(target)\n",
        "target = collections.OrderedDict(sorted(target.items()))\n",
        "pred = collections.Counter(pred)\n",
        "pred = collections.OrderedDict(sorted(pred.items()))\n",
        "\n",
        "for key, value in pred.items():\n",
        "    if target.get(key) == None:\n",
        "      target[key] = 0    \n",
        "\n",
        "for key, value in target.items():  \n",
        "  if pred.get(key) == None:\n",
        "    pred[key] = 0  \n"
      ],
      "id": "08693413",
      "execution_count": 34,
      "outputs": []
    },
    {
      "cell_type": "markdown",
      "metadata": {
        "id": "Wi-7qM6BSd1i"
      },
      "source": [
        "## Bar chart showing each class' prediction count along with its target count"
      ],
      "id": "Wi-7qM6BSd1i"
    },
    {
      "cell_type": "code",
      "metadata": {
        "colab": {
          "base_uri": "https://localhost:8080/",
          "height": 295
        },
        "id": "KZJDThp0yR4G",
        "outputId": "17bdb8c6-b962-400a-cd47-f82c0d430942"
      },
      "source": [
        "X_axis = np.arange(len(target))\n",
        "plt.bar( X_axis - 0.2, pred.values(), width=0.4, color='b', align='center', label ='prediction')\n",
        "plt.bar( X_axis + 0.2, target.values(), width=0.4, color='c', align='center', label = 'target')\n",
        "plt.xticks(X_axis)\n",
        "plt.xlabel(\"Classes\")\n",
        "plt.ylabel(\"Counts\")\n",
        "plt.title(\"Comparison of Prediction and Target for each class\")\n",
        "plt.legend()\n",
        "plt.show()"
      ],
      "id": "KZJDThp0yR4G",
      "execution_count": 35,
      "outputs": [
        {
          "output_type": "display_data",
          "data": {
            "image/png": "[encoded data removed]",
            "text/plain": [
              "<Figure size 432x288 with 1 Axes>"
            ]
          },
          "metadata": {
            "needs_background": "light"
          }
        }
      ]
    },
    {
      "cell_type": "code",
      "metadata": {
        "id": "Bpv987OL1HI5"
      },
      "source": [
        ""
      ],
      "id": "Bpv987OL1HI5",
      "execution_count": 35,
      "outputs": []
    }
  ]
}